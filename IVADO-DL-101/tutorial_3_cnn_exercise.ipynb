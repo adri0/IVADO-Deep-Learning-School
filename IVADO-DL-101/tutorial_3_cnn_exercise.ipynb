{
  "nbformat": 4,
  "nbformat_minor": 0,
  "metadata": {
    "accelerator": "GPU",
    "colab": {
      "name": "Copy of tutorial 3 cnn - exercise.ipynb",
      "provenance": [],
      "collapsed_sections": [],
      "toc_visible": true,
      "include_colab_link": true
    },
    "kernelspec": {
      "display_name": "Python 3",
      "language": "python",
      "name": "python3"
    },
    "language_info": {
      "codemirror_mode": {
        "name": "ipython",
        "version": 3
      },
      "file_extension": ".py",
      "mimetype": "text/x-python",
      "name": "python",
      "nbconvert_exporter": "python",
      "pygments_lexer": "ipython3",
      "version": "3.7.2"
    }
  },
  "cells": [
    {
      "cell_type": "markdown",
      "metadata": {
        "id": "view-in-github",
        "colab_type": "text"
      },
      "source": [
        "<a href=\"https://colab.research.google.com/github/adri0/deep-learning-tutorials/blob/main/IVADO-DL-101/tutorial_3_cnn_exercise.ipynb\" target=\"_parent\"><img src=\"https://colab.research.google.com/assets/colab-badge.svg\" alt=\"Open In Colab\"/></a>"
      ]
    },
    {
      "cell_type": "markdown",
      "metadata": {
        "id": "p_5PWr7JoIbf"
      },
      "source": [
        "# IVADO-Mila Deep Learning School\n",
        "# Fall 2019\n",
        "# Tutorial : Convolution neural networks (CNNs)\n",
        "\n",
        "## Authors: \n",
        "\n",
        "Margaux Luck <margaux.luck@rd.mila.quebec>\n",
        "\n",
        "Jeremy Pinto <jeremy.pinto@rd.mila.quebec>\n",
        "\n",
        "Mathieu Germain <mathieu.germain@rd.mila.quebec>\n",
        "\n",
        "### Translation to English: \n",
        "\n",
        "Laurent Charlin <lcharlin@gmail.com>\n",
        "\n",
        "## Intro\n",
        "\n",
        "This tutorial uses concrete examples to introduce the fundamental concepts behind convolutional neural networks."
      ]
    },
    {
      "cell_type": "markdown",
      "metadata": {
        "id": "A73O9J3necuk"
      },
      "source": [
        "# Initialization"
      ]
    },
    {
      "cell_type": "markdown",
      "metadata": {
        "id": "0PNXwEm-ej9a"
      },
      "source": [
        "\n",
        "Before we begin, you must ensure to install all required libraries for this tutorial. To do so, we will use the `pip` utility. Simply execute the cell below by selecting it and pressing `shift`+`Enter`. (This operation may take a few minutes.)"
      ]
    },
    {
      "cell_type": "code",
      "metadata": {
        "id": "fNlYWG6z9GKT",
        "scrolled": true,
        "colab": {
          "base_uri": "https://localhost:8080/"
        },
        "outputId": "5c5b0c21-df2a-486f-e398-597ad878aac2"
      },
      "source": [
        "!pip3 install torch torchvision Pillow matplotlib"
      ],
      "execution_count": 45,
      "outputs": [
        {
          "output_type": "stream",
          "text": [
            "Requirement already satisfied: torch in /usr/local/lib/python3.6/dist-packages (1.7.0+cu101)\n",
            "Requirement already satisfied: torchvision in /usr/local/lib/python3.6/dist-packages (0.8.1+cu101)\n",
            "Requirement already satisfied: Pillow in /usr/local/lib/python3.6/dist-packages (7.0.0)\n",
            "Requirement already satisfied: matplotlib in /usr/local/lib/python3.6/dist-packages (3.2.2)\n",
            "Requirement already satisfied: future in /usr/local/lib/python3.6/dist-packages (from torch) (0.16.0)\n",
            "Requirement already satisfied: dataclasses in /usr/local/lib/python3.6/dist-packages (from torch) (0.8)\n",
            "Requirement already satisfied: numpy in /usr/local/lib/python3.6/dist-packages (from torch) (1.19.5)\n",
            "Requirement already satisfied: typing-extensions in /usr/local/lib/python3.6/dist-packages (from torch) (3.7.4.3)\n",
            "Requirement already satisfied: pyparsing!=2.0.4,!=2.1.2,!=2.1.6,>=2.0.1 in /usr/local/lib/python3.6/dist-packages (from matplotlib) (2.4.7)\n",
            "Requirement already satisfied: cycler>=0.10 in /usr/local/lib/python3.6/dist-packages (from matplotlib) (0.10.0)\n",
            "Requirement already satisfied: kiwisolver>=1.0.1 in /usr/local/lib/python3.6/dist-packages (from matplotlib) (1.3.1)\n",
            "Requirement already satisfied: python-dateutil>=2.1 in /usr/local/lib/python3.6/dist-packages (from matplotlib) (2.8.1)\n",
            "Requirement already satisfied: six in /usr/local/lib/python3.6/dist-packages (from cycler>=0.10->matplotlib) (1.15.0)\n"
          ],
          "name": "stdout"
        }
      ]
    },
    {
      "cell_type": "markdown",
      "metadata": {
        "id": "ddGNnGb0lMFJ"
      },
      "source": [
        "To ensure that all required libraries are available, let's try to load all libraries and modules we will need during this tutorial by executing this cell: "
      ]
    },
    {
      "cell_type": "code",
      "metadata": {
        "id": "TI8_NhJBZTh_",
        "colab": {
          "base_uri": "https://localhost:8080/"
        },
        "outputId": "a1722630-0cac-4f48-d7d7-44e09b74a992"
      },
      "source": [
        "#import imp.find_module('torch')\n",
        "import importlib\n",
        "required_libraries = ['torch', 'torchvision', 'pillow', 'matplotlib']\n",
        "for lib in required_libraries:\n",
        "    if importlib.util.find_spec(lib) is None:\n",
        "        print(\"%s unavailable\" % lib)"
      ],
      "execution_count": 46,
      "outputs": [
        {
          "output_type": "stream",
          "text": [
            "pillow unavailable\n"
          ],
          "name": "stdout"
        }
      ]
    },
    {
      "cell_type": "code",
      "metadata": {
        "id": "QfmCDK-xlRmW",
        "colab": {
          "base_uri": "https://localhost:8080/"
        },
        "outputId": "e76c5b90-dc65-4553-c41a-f924abc34d13"
      },
      "source": [
        "import torch\n",
        "\n",
        "use_gpu = torch.cuda.is_available()\n",
        "device = torch.device(\"cuda:0\" if use_gpu else \"cpu\")\n",
        "\n",
        "print(\"Torch version: \", torch.__version__)\n",
        "print(\"GPU Available: {}\".format(use_gpu))"
      ],
      "execution_count": 47,
      "outputs": [
        {
          "output_type": "stream",
          "text": [
            "Torch version:  1.7.0+cu101\n",
            "GPU Available: True\n"
          ],
          "name": "stdout"
        }
      ]
    },
    {
      "cell_type": "markdown",
      "metadata": {
        "id": "FNomSpLO9LeH"
      },
      "source": [
        "# The MNIST dataset\n",
        "MNIST is the classic go-to **classification dataset** used in **computer vision**. It is available here: <a href=\"http://yann.lecun.com/exdb/mnist/\">Yann LeCun's website</a>. \n",
        "\n",
        "Each datum is an **image of a handwritten digit**. Here are a few examples from this dataset: \n",
        "\n",
        "![Alt Text](https://github.com/mila-iqia/ecole_dl_mila_ivado/blob/master/tutoriaux/CNN/images/mnist.png?raw=true)\n",
        "\n",
        "Each image also comes with a **class label** which indicates which digit does the image correspond to. For example, the labels of the examples above are 5, 0, 4, and 1 respectively. The classes are balanced which means that all digits appear (roughly) the same number of times in the dataset.\n",
        "\n",
        "The dataset is composed of **60 000 training examples** and **10 000 test examples**. All images have exactly the same size (**28x28 pixels** or 28 rows by 28 columns). Each pixel is represented by a number between 0 and 255 which represents its grey level (0 is white and 255 is black). Depending on the model, each image may have to be flattened (to a 784-length vector)."
      ]
    },
    {
      "cell_type": "markdown",
      "metadata": {
        "id": "wk9AMaT9hmcX"
      },
      "source": [
        "## Objective\n",
        "\n",
        "Our goal is to find a model that correctly classifies these images. In particular, our model will take as input (features/covariates/independant-variables) an image and will predict its digit (label/dependant variable). This problem can be formalized as follows:\n",
        "\n",
        "`f(image) = predicted digit`\n",
        "\n",
        "where `f` is a function.\n",
        "\n",
        "In this tutorial, we will consider both **multi-layer perceptrons (MLPs)** and **convolutional neural networks** as functions for solving this prediction problem. Both models take as inputs pixel intensities which will be modified using mathematical operations through the layers of the networks. Their output is a vector of size *1x10* where each entry corresponds to the (normalized) score that the input image is a particular digit. The sum over these 10 values is 1, and each score is non-negative. This is why these scores can be interpreted as probabilities. Our final prediction will be the entry with the highest score. For example, this prediction\n",
        "\n",
        "`[0.8, 0.1, 0, 0, 0, 0.05, 0.05, 0.0, 0.0, 0.0, 0.0]`\n",
        "\n",
        "indicates that the model assigns a score of 0.8 to class 0.\n",
        "\n",
        "Learning implies finding the parameters of a model that will maximize the model's performance. To learn, we will start by randomly initializing the parameters of our model. Then we iterate through examples. For each example we will obtain the network's prediction, compare it with the true label, and then update the parameters of the models to obtain a better prediction. We do this until we reach some predetermined stopping criteria."
      ]
    },
    {
      "cell_type": "markdown",
      "metadata": {
        "id": "F1U2sDz9ufy9"
      },
      "source": [
        "## Download the dataset and create the data loader\n",
        "\n",
        "Before we begin training, we have to obtain the MNIST dataset. It turns out that there are built-in functions within PyTorch to do so.\n",
        "\n",
        "### Tool box\n",
        "**Note:** PyTorch comes with function to load, shuffle, and augment data.\n",
        "\n",
        "Here is an easy way to load the data in PyTorch: \n",
        "<ol>\n",
        "<li>Subclass <a href=\"http://pytorch.org/docs/master/data.html#torch.utils.data.Dataset\">`torch.utils.data.Dataset`</a> and add  `__getitem__` and `__len__` methods.</li>\n",
        "<li>Then you can use<a href=\"http://pytorch.org/docs/master/data.html#torch.utils.data.DataLoader\">`torch.utils.data.DataLoader`</a> to read and load the data into memory.</li>\n",
        "</ol>\n",
        "\n",
        "It is even easier for MNIST in PyTorch since there is already a subclass of \"datasets\" defined for it: <a href=\"http://pytorch.org/docs/master/torchvision/datasets.html#mnist\">`torchvision.datasets.MNIST`</a>.\n",
        "\n",
        "<a href=\"http://pytorch.org/docs/master/torchvision/datasets.html\">Other datasets are also similarly available</a>\n",
        "\n",
        "**Note:** <a href=\"http://pytorch.org/docs/master/tensors.html#torch.Tensor.view\">`torch.Tensor.view()`</a> returns a new tensor with the same data as the original tensor but a different shape. For example, it can be used to flatten an image."
      ]
    },
    {
      "cell_type": "code",
      "metadata": {
        "id": "n2iC4F8H8bsx",
        "colab": {
          "base_uri": "https://localhost:8080/"
        },
        "outputId": "60e490d7-4625-48ea-a076-2965c6798ce4"
      },
      "source": [
        "import numpy as np\n",
        "import random\n",
        "import torch\n",
        "from torch.utils.data import sampler, DataLoader\n",
        "from torchvision.datasets import MNIST\n",
        "import torchvision.transforms as transforms\n",
        "\n",
        "\n",
        "manualSeed = 1234\n",
        "use_gpu = torch.cuda.is_available()\n",
        "\n",
        "# Fixing random seed\n",
        "random.seed(manualSeed)\n",
        "np.random.seed(manualSeed)\n",
        "torch.manual_seed(manualSeed)\n",
        "if use_gpu:\n",
        "   torch.cuda.manual_seed_all(manualSeed)\n",
        "\n",
        "class ChunkSampler(sampler.Sampler):\n",
        "    \"\"\"Samples elements sequentially from some offset.\n",
        "    From: https://github.com/pytorch/vision/issues/168\n",
        "    \n",
        "    Parameters\n",
        "    ----------\n",
        "    num_samples: int\n",
        "      # of desired datapoints\n",
        "    start: int\n",
        "      Offset where we should start selecting from\n",
        "    \"\"\"\n",
        "    def __init__(self, num_samples, start=0):\n",
        "        self.num_samples = num_samples\n",
        "        self.start = start\n",
        "\n",
        "    def __iter__(self):\n",
        "        return iter(range(self.start, self.start + self.num_samples))\n",
        "\n",
        "    def __len__(self):\n",
        "        return self.num_samples\n",
        "\n",
        "\n",
        "train_dataset = MNIST(root='../data', \n",
        "                      train=True, \n",
        "                      transform=transforms.ToTensor(),  \n",
        "                      download=True)\n",
        "\n",
        "test_dataset = MNIST(root='../data', \n",
        "                     train=False, \n",
        "                     transform=transforms.ToTensor())\n",
        "\n",
        "train_dataset_sizes = len(train_dataset)\n",
        "num_train_samples = int(0.8 * train_dataset_sizes)\n",
        "num_valid_samples = train_dataset_sizes - num_train_samples\n",
        "num_test_samples = len(test_dataset)\n",
        "\n",
        "print('# of train examples: {}'.format(num_train_samples))\n",
        "print('# of valid examples: {}'.format(num_valid_samples))\n",
        "print('# of test examples: {}'.format(num_test_samples))\n",
        "\n",
        "batch_size = 100\n",
        "\n",
        "train_loader = DataLoader(dataset=train_dataset,\n",
        "                          sampler=ChunkSampler(num_train_samples, 0),\n",
        "                          batch_size=batch_size, \n",
        "                          shuffle=False)\n",
        "\n",
        "valid_loader = DataLoader(dataset=train_dataset,\n",
        "                          sampler=ChunkSampler(\n",
        "                              num_valid_samples, num_train_samples),\n",
        "                          batch_size=batch_size, \n",
        "                          shuffle=False)\n",
        "\n",
        "test_loader = DataLoader(dataset=test_dataset, \n",
        "                         batch_size=batch_size, \n",
        "                         shuffle=False)\n"
      ],
      "execution_count": 48,
      "outputs": [
        {
          "output_type": "stream",
          "text": [
            "# of train examples: 48000\n",
            "# of valid examples: 12000\n",
            "# of test examples: 10000\n"
          ],
          "name": "stdout"
        }
      ]
    },
    {
      "cell_type": "markdown",
      "metadata": {
        "id": "gRV8zZbHV6zN"
      },
      "source": [
        "Let's visualize the training data!"
      ]
    },
    {
      "cell_type": "code",
      "metadata": {
        "id": "TB57DZYzV9Oz",
        "colab": {
          "base_uri": "https://localhost:8080/",
          "height": 352
        },
        "outputId": "a9b6c6ba-341f-4db8-d624-cf287d6bd3d5"
      },
      "source": [
        "%matplotlib inline\n",
        "import matplotlib.pyplot as plt\n",
        "\n",
        "inputs, classes = next(iter(train_loader))\n",
        "\n",
        "print('Inputs size: {}'.format(inputs.size()))\n",
        "print('Classes size: {}'.format(classes.size()))\n",
        "\n",
        "# Random image of the batch\n",
        "img1 = 255 - inputs[np.random.randint(len(inputs))] * 255\n",
        "\n",
        "# Plot the image\n",
        "print('\\n\\nDisplay the first image:')\n",
        "img1 = img1.numpy()[0, :, :]\n",
        "plt.imshow(img1, cmap='gray', vmin=0, vmax=255)\n",
        "plt.grid(False)\n",
        "plt.show()\n"
      ],
      "execution_count": 49,
      "outputs": [
        {
          "output_type": "stream",
          "text": [
            "Inputs size: torch.Size([100, 1, 28, 28])\n",
            "Classes size: torch.Size([100])\n",
            "\n",
            "\n",
            "Display the first image:\n"
          ],
          "name": "stdout"
        },
        {
          "output_type": "display_data",
          "data": {
            "image/png": "[encoded data removed]",
            "text/plain": [
              "<Figure size 432x288 with 1 Axes>"
            ]
          },
          "metadata": {
            "tags": [],
            "needs_background": "light"
          }
        }
      ]
    },
    {
      "cell_type": "markdown",
      "metadata": {
        "id": "T_XSUTbG0UvX"
      },
      "source": [
        "# CPU or GPU\n",
        "**Note:** <a href=\"http://pytorch.org/docs/master/cuda.html#module-torch.cuda\">`torch.cuda`</a> is a library which can perform tensor operations using GPUs. Specifically, the library includes CUDA tensors which offer the same operations as regular tensors but instead run on GPUs, instead of CPUs.\n",
        "<a href=\"http://pytorch.org/docs/master/cuda.html#torch.cuda.is_available\">`torch.cuda.is_available()`</a> returns whether or not CUDA is available. Adding `.to(\"cuda:0\")` to the variable identifying a CPU tensor, returns the equivalent GPU tensor.\n",
        "\n",
        "For more information about using GPUs on colab, please refer to this [tutorial](https://colab.research.google.com/drive/1y3ZE4m-D7lPoMzsypSEXessYmjWfKGqD#scrollTo=3IEVK-KFxi5Z).\n"
      ]
    },
    {
      "cell_type": "code",
      "metadata": {
        "id": "LxnZv9g_0RQK",
        "colab": {
          "base_uri": "https://localhost:8080/"
        },
        "outputId": "3c999893-dca0-46ba-e24c-e4814a43b823"
      },
      "source": [
        "use_gpu = torch.cuda.is_available()\n",
        "\n",
        "print(\"GPU Available: {}\".format(use_gpu))"
      ],
      "execution_count": 50,
      "outputs": [
        {
          "output_type": "stream",
          "text": [
            "GPU Available: True\n"
          ],
          "name": "stdout"
        }
      ]
    },
    {
      "cell_type": "markdown",
      "metadata": {
        "id": "yZh1M0A3ZTiP"
      },
      "source": [
        "We are going to compare the performance of a CNN to the performance of a vanilla MLP. Below is a quick reminder of MLPs, the architecture of the MLP we will be using, as well as the code to train the MLP. \n",
        "\n",
        "# Multi-layer perceptron (MLP)\n",
        "A multi-layer perceptron is a vanilla few-forward neural network. Our instanciation will take as input an image, will transform it through a series of hidden layers and then will pass it to an output layer. This output is a vector of 10 numbers where each represents the normalized score of a particular class (this is sometimes interpreted as a probability).\n",
        "\n",
        "For example, here an MLP architecture to classify MNIST images: \n",
        "![Alt Text](https://github.com/mila-iqia/ecole_dl_mila_ivado/blob/master/tutoriaux/CNN/images/mlp.png?raw=true)\n",
        "\n",
        "Whenever you are trying to solve a prediction task, the process usually goes as follows: \n",
        "<ol>\n",
        "<li>Determine the network's artchitecture. This will implicitely determine the number of parameters (weights and biases) of the network.</li>\n",
        "<li>Determine the cost function and the optimization method.</li>\n",
        "<li>Train the weights of the network (i.e., fit the model to train data).</li>\n",
        "<li>Test the network (i.e., evaluate its performance on test data).</li>\n",
        "</ol>\n",
        "\n",
        "This procedure is general and applies to all types of (deep) neural networks.\n",
        "\n",
        "### Toolbox\n",
        "\n",
        "Racall that a (deep) neural network can be coded by using the library <a href=\"http://pytorch.org/docs/master/nn.html\">`torch.nn`</a>. `nn` uses <a href=\"http://pytorch.org/docs/master/autograd.html\">`torch.autograd`</a> to instantiate and computer the gradients (of the loss function with respect to the parameters)."
      ]
    },
    {
      "cell_type": "code",
      "metadata": {
        "id": "tuIgRXpoZTiQ",
        "colab": {
          "base_uri": "https://localhost:8080/"
        },
        "outputId": "6d219331-c185-4a28-d507-3f9050312727"
      },
      "source": [
        "import torch.nn as nn\n",
        "import copy\n",
        "\n",
        "input_size = 784\n",
        "hidden_size = 500\n",
        "num_classes = 10\n",
        "\n",
        "class MLP(nn.Module):\n",
        "    def __init__(self, input_size, hidden_size, num_classes):\n",
        "        super(MLP, self).__init__()\n",
        "\n",
        "        self.hidden_layer = nn.Sequential(\n",
        "            nn.Linear(input_size, hidden_size),\n",
        "            nn.ReLU(),\n",
        "            nn.Linear(hidden_size, hidden_size),\n",
        "            nn.ReLU())\n",
        "        \n",
        "        self.output_layer = nn.Sequential(\n",
        "            nn.Linear(hidden_size, num_classes))\n",
        "    \n",
        "    def forward(self, x):        \n",
        "        \n",
        "        out = self.hidden_layer(x)\n",
        "        \n",
        "        out = self.output_layer(out)\n",
        "        \n",
        "        return out\n",
        "\n",
        "model = MLP(input_size, hidden_size, num_classes)\n",
        "# switch model to GPU\n",
        "model = model.to(device)\n",
        "\n",
        "print(model)\n",
        "\n",
        "print(\"\\n\\n# Parameters: \", sum([param.nelement() for param in model.parameters()]))\n",
        "\n",
        "# Save the initial weights of model\n",
        "init_model_wts = copy.deepcopy(model.state_dict())\n",
        "\n",
        "learning_rate = 1e-2\n",
        "\n",
        "criterion = nn.CrossEntropyLoss()  \n",
        "\n",
        "optimizer = torch.optim.SGD(model.parameters(), lr=learning_rate)"
      ],
      "execution_count": 51,
      "outputs": [
        {
          "output_type": "stream",
          "text": [
            "MLP(\n",
            "  (hidden_layer): Sequential(\n",
            "    (0): Linear(in_features=784, out_features=500, bias=True)\n",
            "    (1): ReLU()\n",
            "    (2): Linear(in_features=500, out_features=500, bias=True)\n",
            "    (3): ReLU()\n",
            "  )\n",
            "  (output_layer): Sequential(\n",
            "    (0): Linear(in_features=500, out_features=10, bias=True)\n",
            "  )\n",
            ")\n",
            "\n",
            "\n",
            "# Parameters:  648010\n"
          ],
          "name": "stdout"
        }
      ]
    },
    {
      "cell_type": "code",
      "metadata": {
        "id": "vxSmDi5-ZTiS",
        "colab": {
          "base_uri": "https://localhost:8080/"
        },
        "outputId": "e7f1fa69-0962-4a60-a878-01d97ba724d5"
      },
      "source": [
        "import time\n",
        "from torch.autograd import Variable\n",
        "\n",
        "model.load_state_dict(init_model_wts)\n",
        "\n",
        "since = time.time()\n",
        "\n",
        "num_epochs = 10\n",
        "train_loss_history = []\n",
        "valid_loss_history = []\n",
        "\n",
        "print(\"# Start training #\")\n",
        "for epoch in range(num_epochs):\n",
        "    \n",
        "    train_loss = 0\n",
        "    train_n_iter = 0\n",
        "    \n",
        "    # Set model to train mode\n",
        "    model.train()\n",
        "    \n",
        "    # Iterate over train data\n",
        "    for images, labels in train_loader:  \n",
        "        \n",
        "        # put images on proper device (GPU)\n",
        "        images = images.to(device)\n",
        "        labels = labels.to(device)\n",
        "        \n",
        "        # Flatten the images\n",
        "        images = images.view(-1, 28*28)\n",
        "\n",
        "        # Zero the gradient buffer\n",
        "        optimizer.zero_grad()  \n",
        "        \n",
        "        # Forward\n",
        "        outputs = model(images)\n",
        "        \n",
        "        loss = criterion(outputs, labels)\n",
        "        \n",
        "        # Backward\n",
        "        loss.backward()\n",
        "        \n",
        "        # Optimize\n",
        "        optimizer.step()\n",
        "        \n",
        "        # Statistics\n",
        "        train_loss += loss.item()\n",
        "        train_n_iter += 1\n",
        "    \n",
        "    valid_loss = 0\n",
        "    valid_n_iter = 0\n",
        "    \n",
        "    # Set model to evaluate mode\n",
        "    model.eval()\n",
        "    \n",
        "    # Iterate over valid data\n",
        "    for images, labels in valid_loader:  \n",
        "        \n",
        "        # put images on proper device (GPU)\n",
        "        images = images.to(device)\n",
        "        labels = labels.to(device)\n",
        "        \n",
        "        # Flatten the images\n",
        "        images = images.view(-1, 28*28)\n",
        "        \n",
        "        \n",
        "        # Forward\n",
        "        outputs = model(images)\n",
        "        \n",
        "        loss = criterion(outputs, labels)\n",
        "        \n",
        "        # Statistics\n",
        "        valid_loss += loss.item()\n",
        "        valid_n_iter += 1\n",
        "    \n",
        "    train_loss_history.append(train_loss / train_n_iter)\n",
        "    valid_loss_history.append(valid_loss / valid_n_iter)\n",
        "    \n",
        "    print('\\nEpoch: {}/{}'.format(epoch + 1, num_epochs))\n",
        "    print('\\tTrain Loss: {:.4f}'.format(train_loss / train_n_iter))\n",
        "    print('\\tValid Loss: {:.4f}'.format(valid_loss / valid_n_iter))\n",
        "\n",
        "time_elapsed = time.time() - since\n",
        "\n",
        "print('\\n\\nTraining complete in {:.0f}m {:.0f}s'.format(\n",
        "    time_elapsed // 60, time_elapsed % 60))"
      ],
      "execution_count": 52,
      "outputs": [
        {
          "output_type": "stream",
          "text": [
            "# Start training #\n",
            "\n",
            "Epoch: 1/10\n",
            "\tTrain Loss: 2.0848\n",
            "\tValid Loss: 1.5925\n",
            "\n",
            "Epoch: 2/10\n",
            "\tTrain Loss: 1.0058\n",
            "\tValid Loss: 0.6334\n",
            "\n",
            "Epoch: 3/10\n",
            "\tTrain Loss: 0.5535\n",
            "\tValid Loss: 0.4530\n",
            "\n",
            "Epoch: 4/10\n",
            "\tTrain Loss: 0.4410\n",
            "\tValid Loss: 0.3867\n",
            "\n",
            "Epoch: 5/10\n",
            "\tTrain Loss: 0.3902\n",
            "\tValid Loss: 0.3516\n",
            "\n",
            "Epoch: 6/10\n",
            "\tTrain Loss: 0.3600\n",
            "\tValid Loss: 0.3287\n",
            "\n",
            "Epoch: 7/10\n",
            "\tTrain Loss: 0.3387\n",
            "\tValid Loss: 0.3114\n",
            "\n",
            "Epoch: 8/10\n",
            "\tTrain Loss: 0.3218\n",
            "\tValid Loss: 0.2974\n",
            "\n",
            "Epoch: 9/10\n",
            "\tTrain Loss: 0.3075\n",
            "\tValid Loss: 0.2853\n",
            "\n",
            "Epoch: 10/10\n",
            "\tTrain Loss: 0.2949\n",
            "\tValid Loss: 0.2746\n",
            "\n",
            "\n",
            "Training complete in 0m 47s\n"
          ],
          "name": "stdout"
        }
      ]
    },
    {
      "cell_type": "code",
      "metadata": {
        "id": "8ksql3IGZTiU",
        "colab": {
          "base_uri": "https://localhost:8080/",
          "height": 279
        },
        "outputId": "25a0f597-44f6-461d-c704-118fcf08b57c"
      },
      "source": [
        "# Save history for later\n",
        "mlp_train_loss_history = train_loss_history\n",
        "mlp_valid_loss_history = valid_loss_history\n",
        "\n",
        "# Plot training and validation curve\n",
        "x = range(1, num_epochs + 1)\n",
        "plt.plot(x, mlp_train_loss_history, label='train')\n",
        "plt.plot(x, mlp_valid_loss_history, label='valid')\n",
        "\n",
        "plt.xlabel('# epochs')\n",
        "plt.ylabel('Loss')\n",
        "plt.legend()\n",
        "\n",
        "plt.show()"
      ],
      "execution_count": 53,
      "outputs": [
        {
          "output_type": "display_data",
          "data": {
            "image/png": "[encoded data removed]",
            "text/plain": [
              "<Figure size 432x288 with 1 Axes>"
            ]
          },
          "metadata": {
            "tags": [],
            "needs_background": "light"
          }
        }
      ]
    },
    {
      "cell_type": "code",
      "metadata": {
        "id": "dUevqDB7ZTiW",
        "colab": {
          "base_uri": "https://localhost:8080/"
        },
        "outputId": "f1eb73a1-1529-4927-fda9-9aaeaeeca227"
      },
      "source": [
        "# Set model to evaluate mode\n",
        "model.eval()\n",
        "\n",
        "correct = 0\n",
        "total = 0\n",
        "\n",
        "# Iterate over test data\n",
        "for images, labels in test_loader:\n",
        "    \n",
        "    # put images on proper device (GPU)\n",
        "    images = images.to(device)\n",
        "    labels = labels.to(device)\n",
        "    \n",
        "    # Flatten the images\n",
        "    images = images.view(-1, 28*28)\n",
        "    \n",
        "\n",
        "    # Forward\n",
        "    outputs = model(images)\n",
        "    _, predicted = torch.max(outputs.data, 1)\n",
        "    \n",
        "    # Statistics\n",
        "    total += labels.size(0)\n",
        "    correct += torch.sum(predicted == labels.data)\n",
        "\n",
        "print('Accuracy on the test set: {:.2f}%'.format(100 * correct / total))"
      ],
      "execution_count": 54,
      "outputs": [
        {
          "output_type": "stream",
          "text": [
            "Accuracy on the test set: 92.18%\n"
          ],
          "name": "stdout"
        }
      ]
    },
    {
      "cell_type": "markdown",
      "metadata": {
        "id": "Hp1YgKZb8btG"
      },
      "source": [
        "# Convolutional neural networks (CNNs)\n",
        "\n",
        "\n"
      ]
    },
    {
      "cell_type": "markdown",
      "metadata": {
        "id": "GMbU21dg3Rqx"
      },
      "source": [
        "## Concepts\n",
        "\n",
        "We first review the basic concepts that underlie CNNs.\n",
        "\n",
        "### Convolution\n",
        "\n",
        "A convolution \"slides\" a filter *K* along image *I* to obtain an output *I*\\**K*.\n",
        "\n",
        "Here is an example of a 2D convolution:\n",
        "\n",
        "![Alt Text](https://github.com/mila-iqia/ecole_dl_mila_ivado/blob/master/tutoriaux/CNN/images/numerical_no_padding_no_strides.gif?raw=true)\n",
        "\n",
        "\n",
        "### Filters\n",
        "\n",
        "Filters (or kernels) are used to extract information useful to the task from their input. Filters are generally of size *n* \\* *n* where *n* is usually odd. The filters are parametrized by weights, one for each of its entry, which are learned by the convolutional network.\n",
        "\n",
        "The filter used in the previous example is:\n",
        "\n",
        "![Alt Text](https://github.com/mila-iqia/ecole_dl_mila_ivado/blob/master/tutoriaux/CNN/images/d7acc4aeb74d9e9cb5fb51482a302196594837fe.png?raw=true)\n",
        "\n",
        "### Depth\n",
        "\n",
        "We typically use *M* of filters which can be understood as the depth of the layer (see below). Note that this is different from the depth of the network (which is the number of layers). M is a hyperparameter. Here, each filter's output (blue circles) is represented as a single depth dimension on the output.\n",
        "\n",
        "![Alt Text](https://github.com/mila-iqia/ecole_dl_mila_ivado/blob/master/tutoriaux/CNN/images/Conv_layer.png?raw=true)\n",
        "\n",
        "### Stride\n",
        "\n",
        "The stride corresponds to the number of pixels the filter moves over in between each step of the convolution. The stride is measured in terms of a number of pixels. We typically use strides of 1 or 2. The larger the stride, the smaller the dimension of the output.\n",
        "\n",
        "### Zero padding\n",
        "\n",
        "Zero padding consists in padding (adding) a border of zeros around the input image. This can be useful to preserve the dimension from input to output.\n",
        "\n",
        "Below is an example of a zero padding which preserves the dimensions from input to output. Here, zero padding is set to 1, stride is set to 1, and the filter has size 3x3.\n",
        "\n",
        "![Alt Text](https://github.com/mila-iqia/ecole_dl_mila_ivado/blob/master/tutoriaux/CNN/images/same_padding_no_strides.gif?raw=true)\n",
        "\n",
        "\n",
        "### Max Pooling\n",
        "\n",
        "In addition to convolutions, CNNs usually have pooling layers. The goal of pooling is to reduce the dimensionality of the input in-between two convolution layers to reduce the number of parameters in the network. For example, the famous LeNet CNN, uses max pooling with 2x2 filters and a stride of 2. Max pooling outputs the max value in a 2x2 region. This output is then the input of the next layer.\n",
        "\n",
        "Here is an example of the max pooling operation:\n",
        "\n",
        "![Alt Text](https://github.com/mila-iqia/ecole_dl_mila_ivado/blob/master/tutoriaux/CNN/images/maxpool.jpeg?raw=true)\n",
        "\n",
        "\n",
        "### Receptive Field\n",
        "\n",
        "The receptive field is a measure of the CNNs' capacity to perceive information at different input scales. In an MLP (fully connected), the features are connected to every neuron. The receptive field of this MLP is the full image.\n",
        "\n",
        "For CNNs, convolution operations typically imply sparse connections. In other words, each filter only has a local receptive field. However, each successive layer will have access to a slightly larger receptive field. \n",
        "\n",
        "Let's look at an example. Imagine a 3x3 filter with stride set to 1. In this case, the first layer's receptive field is a maximum of 3x3. However, the more layer we add the more we increase the network's receptive field. Adding a second layer with 3xe3 filters and a stride of 1, our receptive field is increased to 5x5. Adding a third 3x3 layer further increases our receptive field to 7x7.\n",
        "\n",
        "What is the advantage of using multiple smaller successive filters instead of a single larger one? A single large filter of 7x7 implies 49 parameters. Instead 3 layers of 3x3 filters requires only 27 parameters (9 \\* 3). It is therefore more efficient to use multiple successive filters and in both cases the receptive field is the same (7x7). In addition, by using multiple successive filters, we can introduce more non-linearities in the model (one after each filter).\n",
        "\n",
        "Here the 3x3 filter (in grey) with a stride of 1 has a receptive field of 5x5 (yellow region):\n",
        "\n",
        "![Alt Text](https://github.com/mila-iqia/ecole_dl_mila_ivado/blob/master/tutoriaux/CNN/images/sNBmKMKAz-yJeCuS14usSqw.png?raw=true)\n",
        "\n",
        "\n",
        "### Number of dimensions\n",
        "\n",
        "In general, for a convolutional layers with input dimensions (volume)\n",
        "$W_1 * H_1 * D_1$ and hyperparameters \n",
        "\n",
        "* Number of filters = $K$\n",
        "\n",
        "* Filter sizes = $F$\n",
        "\n",
        "* Stride = $S$\n",
        "\n",
        "* Zero Padding = $P$.\n",
        "\n",
        "We obtain an output volume of $W_2 * H_2 * D_2$ dimensions where  \n",
        "\n",
        "* $W_2 = (W_1 - F + 2P) / S + 1$\n",
        "* $H_2 = (H1 - F + 2P) / S + 1$\n",
        "* $D_2 = K$\n",
        "\n",
        "and the total number of parameters is $(F⋅F⋅D_1)⋅K$ weights and $K$ biases.\n",
        "\n",
        "For an in-depth analysis see [this paper](http://cs231n.github.io/convolutional-networks/)"
      ]
    },
    {
      "cell_type": "markdown",
      "metadata": {
        "id": "owIcd9VguyAe"
      },
      "source": [
        "\n",
        "## LeNet\n",
        "CNNs have been developed to model images. They can model images more efficiently (with fewer parameters) than an equivalent MLP. LeNet is a basic CNN for classification. It comes in several versions.\n",
        "\n",
        "We will use a \"LeNet 5\" to classify MNIST digit images:\n",
        "\n",
        "![Alt Text](https://github.com/mila-iqia/ecole_dl_mila_ivado/blob/master/tutoriaux/CNN/images/lenet5.png?raw=true)\n",
        "\n",
        "\n",
        "To solve a prediction task, the process usually goes as follows (it is the same for MLPs and CNNs):\n",
        "<ol>\n",
        "<li>Determine the network's architecture. This will implicitly determine the number of parameters (weights and biases) of the network.</li>\n",
        "<li>Determine the cost function and the optimization method.</li>\n",
        "<li>Train the weights of the network (i.e., fit the model to train data).</li>\n",
        "<li>Test the network (i.e., evaluate its performance on test data).</li>\n",
        "</ol>\n",
        "\n",
        "\n",
        "## Determining the network's architecture\n",
        "### Toolbox\n",
        "**Recall:** To instantiate a particular network in PyTorch, one first subclasses <a href=\"http://pytorch.org/docs/master/nn.html#torch.nn.Module\">`torch.nn.Module`</a> and then writes the following methods :\n",
        "<ul>\n",
        "<li>The `__init__` method defines the layers. </li>\n",
        "<li>The `forward(input)` method returns the `output`.</li>\n",
        "</ul>\n",
        "\n",
        "\n",
        "For LeNet 5's '`__init__`, the following classes can be used:\n",
        "<ul>\n",
        "<li><a href=\"http://pytorch.org/docs/master/nn.html#torch.nn.Conv2d\">`torch.nn.Conv2d(in_channels, out_channels, kernel_size)`</a> applies a 2D convolution on the input channels.</li>\n",
        "<li><a href=\"http://pytorch.org/docs/master/nn.html#torch.nn.MaxPool2d\">`torch.nn.MaxPool2d(kernel_size)`</a> applies 2D max pooling on the input channels.</li>\n",
        "<li><a href=\"http://pytorch.org/docs/master/nn.html#torch.nn.Linear\">`torch.nn.Linear(in_features, out_features)`</a> applies a linear transformation on its input: y = Ax + b.</li>\n",
        "<li><a href=\"http://pytorch.org/docs/master/nn.html#torch.nn.ReLU\">`torch.nn.Relu()`</a> applies an elementwise Relu activation: Relu(x) = max(0, x).</li>\n",
        "<li><a href=\"http://pytorch.org/docs/master/nn.html#torch.nn.Softmax\">`torch.nn.Softmax(dim)`</a> applies a softmax activation to an n-dimensional tensor (normalizes the exponentiated entries).</li>\n",
        "<li><a href=\"http://pytorch.org/docs/master/nn.html#torch.nn.Sequential\">`torch.nn.sequential`</a> a sequential container in which to add modules in the order in which they will be constructed.</li>\n",
        "</ul>\n",
        "\n",
        "`forward(input)` successively applies the input data to the different layers defined in  `__init__`.\n",
        "\n",
        "Finally, `model.to(\"cuda:0\")` passes the model to an available GPU.\n",
        "\n",
        "### Implementation"
      ]
    },
    {
      "cell_type": "code",
      "metadata": {
        "id": "sR4OQa-4gBAQ",
        "colab": {
          "base_uri": "https://localhost:8080/"
        },
        "outputId": "70cc4f41-50ab-4932-ded9-ab57e78b169c"
      },
      "source": [
        "class LeNet5(nn.Module):\n",
        "    def __init__(self):\n",
        "        super(LeNet5, self).__init__()\n",
        "        self.conv_block_1 = nn.Sequential(\n",
        "            nn.Conv2d(\n",
        "                in_channels=1, out_channels=16, kernel_size=5,\n",
        "                stride=1, padding=2),\n",
        "            nn.ReLU(),\n",
        "            nn.MaxPool2d(kernel_size=2))\n",
        "        self.conv_block_2 = nn.Sequential(\n",
        "            nn.Conv2d(\n",
        "                in_channels=16, out_channels=32, kernel_size=5,\n",
        "                stride=1, padding=2),\n",
        "            nn.ReLU(),\n",
        "            nn.MaxPool2d(kernel_size=2))\n",
        "        self.flatten = nn.Flatten()\n",
        "        self.linear = nn.Linear(in_features=7*7*32, out_features=10)\n",
        "        \n",
        "        # To complete\n",
        "    def forward(self, x):\n",
        "        return nn.Sequential(\n",
        "            self.conv_block_1,\n",
        "            self.conv_block_2,\n",
        "            self.flatten,\n",
        "            self.linear\n",
        "        )(x)\n",
        "        \n",
        "model = LeNet5()\n",
        "model = model.to(device)\n",
        "\n",
        "print(model)\n",
        "print(\"\\n\\n# Parameters: \", sum([param.nelement() for param in model.parameters()]))"
      ],
      "execution_count": 55,
      "outputs": [
        {
          "output_type": "stream",
          "text": [
            "LeNet5(\n",
            "  (conv_block_1): Sequential(\n",
            "    (0): Conv2d(1, 16, kernel_size=(5, 5), stride=(1, 1), padding=(2, 2))\n",
            "    (1): ReLU()\n",
            "    (2): MaxPool2d(kernel_size=2, stride=2, padding=0, dilation=1, ceil_mode=False)\n",
            "  )\n",
            "  (conv_block_2): Sequential(\n",
            "    (0): Conv2d(16, 32, kernel_size=(5, 5), stride=(1, 1), padding=(2, 2))\n",
            "    (1): ReLU()\n",
            "    (2): MaxPool2d(kernel_size=2, stride=2, padding=0, dilation=1, ceil_mode=False)\n",
            "  )\n",
            "  (flatten): Flatten(start_dim=1, end_dim=-1)\n",
            "  (linear): Linear(in_features=1568, out_features=10, bias=True)\n",
            ")\n",
            "\n",
            "\n",
            "# Parameters:  28938\n"
          ],
          "name": "stdout"
        }
      ]
    },
    {
      "cell_type": "markdown",
      "metadata": {
        "id": "tRo03AR2PFPE"
      },
      "source": [
        "We note that LeNet4 has 28 938 parameters versus 648 010 parameters for an somewhat equivalent MLP with two hidden layers. This reduction in the number of parameters is significant. \n",
        "\n",
        "Here is how we calculate the number of parameters for LeNet5: \n",
        "\n",
        "```\n",
        "1st layer: 16 filters of size 5x5 + 16 biases = 16*5*5 + 16 = 416\n",
        "2nd layer: 16 * 32 filters of size 5x5 + 32 biases = 16*32*5*5 + 32 = 12 832\n",
        "FC layer: 7*7*32*10 + 10 biases = 15 690\n",
        " \n",
        "Total = 416 + 12 832 + 15 690 = 28 938\n",
        "```\n",
        "\n",
        "As a comparison, here is how we calculate the number of parameters of the two hidden layer MLP: \n",
        "The input flattens the 28x28 images into a vector of size 784. The second layer has 500 neurons. Each neuron requires 784 weights + 1 bias. So 500\\*785 parameters. This is then fed to another layer of 500 neurons which adds 501\\*500 parameters. Finally, the output layer has 10 neurons, each with 500 weights and a single bias for a total of 10\\*501 parameters. \n",
        "\n",
        "So in total we have: \n",
        "```\n",
        "500*785 + 501*500 + 10*501 = 648010\n",
        "``` parameters."
      ]
    },
    {
      "cell_type": "code",
      "metadata": {
        "id": "WuPJFPoDQYLq"
      },
      "source": [
        "# Save the initial weights of model\n",
        "init_model_wts = copy.deepcopy(model.state_dict())"
      ],
      "execution_count": 56,
      "outputs": []
    },
    {
      "cell_type": "markdown",
      "metadata": {
        "id": "y9H0ssbh3V1j"
      },
      "source": [
        "## Determine the cost function and the optimization method\n",
        "### Toolbox\n",
        "**Recall:** A common choice for a multi-class task are the following:\n",
        "<ul>\n",
        "<li>**Cost function :** <a href=\"http://pytorch.org/docs/master/nn.html#torch.nn.CrossEntropyLoss\">`torch.nn.CrossEntropyLoss()`</a>. The cross entropy is often used in this context. It compares a (multivariate) distribution $p$ with a reference distribution $t$. It is minimized for $p=t$ and it is expressed mathematically by: $-\\sum_j t_{ij} \\log(p_{ij})$ where $p$ is the prediction, $t$ the target, $i$ are examples and $j$ the target class.</li>\n",
        "<li>**Optimization method :** <a href=\"http://pytorch.org/docs/master/optim.html#torch.optim.SGD\">`torch.optim.SGD(net.parameters(), lr=learning_rate)`</a> a standard stochastic gradient descent (SGD) implementation</li>\n",
        "</ul>\n",
        "\n",
        "### Implementation\n"
      ]
    },
    {
      "cell_type": "code",
      "metadata": {
        "id": "uE3Cfrd-hJ0e"
      },
      "source": [
        "# To complete\n",
        "\n",
        "criterion = nn.CrossEntropyLoss()\n",
        "optimizer = torch.optim.SGD(model.parameters(), lr=learning_rate)"
      ],
      "execution_count": 57,
      "outputs": []
    },
    {
      "cell_type": "markdown",
      "metadata": {
        "id": "sYEtUb4s3rab"
      },
      "source": [
        "## Train the weights of a network\n",
        "### Toolbox\n",
        "**Recall:** Training a network usually involves iterating for multiple epochs over the training dataset. One epoch corresponds to one pass over the full dataset. \n",
        "\n",
        "The dataset is usually divided into batches. Each epoch will then receive sequentially batches. For each batch we do the following operations:\n",
        "<ol>\n",
        "<li>`optimizer.zero_grad()`: we clear the previously stored gradients.</li>\n",
        "<li>`loss.backward()`: we evaluate the cost, the gradients, and backpropagate the gradients through the computation graph.</li>\n",
        "<li>`optimizer.step()`: we update the parameters using the previously calculated gradients. For SGD, the update is: `weight = weight - learning_rate * gradient`.</li>\n",
        "</ol>\n",
        "\n",
        "### Implementation\n",
        "Just fill in the blanks... Good luck!\n"
      ]
    },
    {
      "cell_type": "code",
      "metadata": {
        "id": "elxupovwhRSk",
        "colab": {
          "base_uri": "https://localhost:8080/"
        },
        "outputId": "7ba13d55-fa9a-43a3-d658-13d0d957560a"
      },
      "source": [
        "model.load_state_dict(init_model_wts)\n",
        "\n",
        "since = time.time()\n",
        "\n",
        "num_epochs = 10\n",
        "train_loss_history = []\n",
        "valid_loss_history = []\n",
        "\n",
        "print(\"# Start training #\")\n",
        "for epoch in range(num_epochs):\n",
        "    \n",
        "    train_loss = 0\n",
        "    train_n_iter = 0\n",
        "    \n",
        "    # Set model to train mode\n",
        "    model.train()\n",
        "    \n",
        "    # Iterate over train data\n",
        "    for images, labels in train_loader:  \n",
        "\n",
        "        # put images on proper device (GPU)\n",
        "        images = images.to(device)\n",
        "        labels = labels.to(device)\n",
        "        \n",
        "        # Zero the gradient buffer\n",
        "        optimizer.zero_grad()\n",
        "        \n",
        "        # Forward pass\n",
        "        outputs = model(images)\n",
        "        \n",
        "        # Calculate loss\n",
        "        loss = criterion(outputs, labels)\n",
        "        \n",
        "        # Backward pass\n",
        "        loss.backward()\n",
        "        \n",
        "        # Optimize\n",
        "        optimizer.step()\n",
        "        \n",
        "        # Statistics\n",
        "        train_loss += loss.item()\n",
        "        train_n_iter += 1\n",
        "    \n",
        "    valid_loss = 0\n",
        "    valid_n_iter = 0\n",
        "    \n",
        "    # Set model to evaluate mode\n",
        "    model.eval()\n",
        "    \n",
        "    # Iterate over valid data\n",
        "    for images, labels in valid_loader:  \n",
        "        \n",
        "        # put images on proper device (GPU)\n",
        "        images = images.to(device)\n",
        "        labels = labels.to(device)\n",
        "        \n",
        "        # Forward pass\n",
        "        outputs = model(images)\n",
        "        \n",
        "        # Calculate loss\n",
        "        loss = criterion(outputs, labels)\n",
        "        \n",
        "        # Statistics\n",
        "        valid_loss += loss.item()\n",
        "        valid_n_iter += 1\n",
        "    \n",
        "    train_loss_history.append(train_loss / train_n_iter)\n",
        "    valid_loss_history.append(valid_loss / valid_n_iter)\n",
        "    \n",
        "    print('\\nEpoch: {}/{}'.format(epoch + 1, num_epochs))\n",
        "    print('\\tTrain Loss: {:.4f}'.format(train_loss / train_n_iter))\n",
        "    print('\\tValid Loss: {:.4f}'.format(valid_loss / valid_n_iter))\n",
        "\n",
        "time_elapsed = time.time() - since\n",
        "\n",
        "print('\\n\\nTraining complete in {:.0f}m {:.0f}s'.format(\n",
        "    time_elapsed // 60, time_elapsed % 60))"
      ],
      "execution_count": 58,
      "outputs": [
        {
          "output_type": "stream",
          "text": [
            "# Start training #\n",
            "\n",
            "Epoch: 1/10\n",
            "\tTrain Loss: 0.9665\n",
            "\tValid Loss: 0.4012\n",
            "\n",
            "Epoch: 2/10\n",
            "\tTrain Loss: 0.3177\n",
            "\tValid Loss: 0.2666\n",
            "\n",
            "Epoch: 3/10\n",
            "\tTrain Loss: 0.2316\n",
            "\tValid Loss: 0.1999\n",
            "\n",
            "Epoch: 4/10\n",
            "\tTrain Loss: 0.1823\n",
            "\tValid Loss: 0.1613\n",
            "\n",
            "Epoch: 5/10\n",
            "\tTrain Loss: 0.1508\n",
            "\tValid Loss: 0.1370\n",
            "\n",
            "Epoch: 6/10\n",
            "\tTrain Loss: 0.1295\n",
            "\tValid Loss: 0.1207\n",
            "\n",
            "Epoch: 7/10\n",
            "\tTrain Loss: 0.1143\n",
            "\tValid Loss: 0.1092\n",
            "\n",
            "Epoch: 8/10\n",
            "\tTrain Loss: 0.1032\n",
            "\tValid Loss: 0.1007\n",
            "\n",
            "Epoch: 9/10\n",
            "\tTrain Loss: 0.0946\n",
            "\tValid Loss: 0.0943\n",
            "\n",
            "Epoch: 10/10\n",
            "\tTrain Loss: 0.0878\n",
            "\tValid Loss: 0.0890\n",
            "\n",
            "\n",
            "Training complete in 0m 56s\n"
          ],
          "name": "stdout"
        }
      ]
    },
    {
      "cell_type": "markdown",
      "metadata": {
        "id": "3fozzXmdRGTs"
      },
      "source": [
        "Let's plot the training curves!"
      ]
    },
    {
      "cell_type": "code",
      "metadata": {
        "id": "TUGbFeg5RHFZ",
        "colab": {
          "base_uri": "https://localhost:8080/",
          "height": 281
        },
        "outputId": "3a34e4bb-dcf2-45c8-fb21-f8ee62cfdc01"
      },
      "source": [
        "# Save history for later\n",
        "lenet5_train_loss_history = train_loss_history\n",
        "lenet5_valid_loss_history = valid_loss_history\n",
        "\n",
        "# Plot training and validation curve\n",
        "x = range(1, num_epochs + 1)\n",
        "plt.plot(x, lenet5_train_loss_history, label='train')\n",
        "plt.plot(x, lenet5_valid_loss_history, label='valid')\n",
        "\n",
        "plt.xlabel('# epochs')\n",
        "plt.ylabel('Loss')\n",
        "plt.legend()\n",
        "\n",
        "plt.show()"
      ],
      "execution_count": 59,
      "outputs": [
        {
          "output_type": "display_data",
          "data": {
            "image/png": "[encoded data removed]",
            "text/plain": [
              "<Figure size 432x288 with 1 Axes>"
            ]
          },
          "metadata": {
            "tags": [],
            "needs_background": "light"
          }
        }
      ]
    },
    {
      "cell_type": "markdown",
      "metadata": {
        "id": "H6kWtULrSDXL"
      },
      "source": [
        "We can overlay the validation curves on top of the training curves for training of LeNet5:"
      ]
    },
    {
      "cell_type": "code",
      "metadata": {
        "id": "rE1qsmvaSTjH",
        "colab": {
          "base_uri": "https://localhost:8080/",
          "height": 279
        },
        "outputId": "6c0e3d22-6883-4f4a-8aff-162e09c0ee40"
      },
      "source": [
        "# Plot training and validation curve\n",
        "x = range(1, num_epochs + 1)\n",
        "plt.plot(x, mlp_train_loss_history, label='MLP train')\n",
        "plt.plot(x, mlp_valid_loss_history, label='MLP valid')\n",
        "plt.plot(x, lenet5_train_loss_history, label='LeNet5 train')\n",
        "plt.plot(x, lenet5_valid_loss_history, label='LeNet5 valid')\n",
        "\n",
        "plt.xlabel('# epochs')\n",
        "plt.ylabel('Loss')\n",
        "plt.legend()\n",
        "\n",
        "plt.show()"
      ],
      "execution_count": 60,
      "outputs": [
        {
          "output_type": "display_data",
          "data": {
            "image/png": "[encoded data removed]",
            "text/plain": [
              "<Figure size 432x288 with 1 Axes>"
            ]
          },
          "metadata": {
            "tags": [],
            "needs_background": "light"
          }
        }
      ]
    },
    {
      "cell_type": "markdown",
      "metadata": {
        "id": "Tq79RTld3xyc"
      },
      "source": [
        "## Test the network\n",
        "### Toolbox\n",
        "**Recall:** we evaluate the network's performance on test data.\n",
        "### Implementation"
      ]
    },
    {
      "cell_type": "code",
      "metadata": {
        "id": "da47-MilhpN7",
        "colab": {
          "base_uri": "https://localhost:8080/"
        },
        "outputId": "143c9181-71cf-4fb1-f64e-8b0be5681680"
      },
      "source": [
        "# Set model to evaluate mode\n",
        "model.eval()\n",
        "\n",
        "correct = 0\n",
        "total = 0\n",
        "\n",
        "# Iterate over data.\n",
        "for images, labels in test_loader:\n",
        "    \n",
        "    # put images on proper device (GPU)\n",
        "    images = images.to(device)\n",
        "    labels = labels.to(device)\n",
        "    \n",
        "    # No need to flatten the images here !\n",
        "    \n",
        "\n",
        "    # Forward\n",
        "    outputs = model(images)\n",
        "    _, predicted = torch.max(outputs.data, 1)\n",
        "    \n",
        "    # Statistics\n",
        "    total += labels.size(0)\n",
        "    correct += torch.sum(predicted == labels)\n",
        "\n",
        "print('Accuracy on the test set: {:.2f}%'.format(100 * correct / total))"
      ],
      "execution_count": 61,
      "outputs": [
        {
          "output_type": "stream",
          "text": [
            "Accuracy on the test set: 97.68%\n"
          ],
          "name": "stdout"
        }
      ]
    },
    {
      "cell_type": "markdown",
      "metadata": {
        "id": "voN-_iO_RQ8A"
      },
      "source": [
        "The best results are obtained after 10 epochs!\n",
        "\n",
        "---\n",
        "\n"
      ]
    },
    {
      "cell_type": "markdown",
      "metadata": {
        "id": "OFj_W39u5voa"
      },
      "source": [
        "## Methods for improving training"
      ]
    },
    {
      "cell_type": "markdown",
      "metadata": {
        "id": "chov57bzu76J"
      },
      "source": [
        "### Batch normalization\n",
        "Batch normalization is a trick that often yields faster training. It acts as a regularizer by normalizing the inputs (by batch). Further, the operation is differentiable.\n",
        "\n",
        "![Alt Text](https://github.com/mila-iqia/ecole_dl_mila_ivado/blob/master/tutoriaux/CNN/images/1_Hiq-rLFGDpESpr8QNsJ1jg.png?raw=true)\n",
        "\n",
        "\n",
        "For additional information see [article](https://arxiv.org/pdf/1502.03167v3.pdf).\n",
        "\n",
        "### Toolbox\n",
        "Batch normalization is already implemented for us. To add it to our LeNet5 network, just add another layer in `__init__`. The following class can be used:\n",
        "<ul>\n",
        "<li><a href=\"http://pytorch.org/docs/master/nn.html#torch.nn.BatchNorm2d\">`nn.BatchNorm2d(num_features)`</a>: add batch normalisation to a 4-dimensional input encoded in a 3-dimensional tensor.</li>\n",
        "</ul>\n",
        "\n",
        "### Implement\n",
        "Below, you need to add batch normalization to the original LeNet5."
      ]
    },
    {
      "cell_type": "code",
      "metadata": {
        "id": "6pi_mhvg8E4E",
        "colab": {
          "base_uri": "https://localhost:8080/"
        },
        "outputId": "fcfe415e-a1e4-4381-a7ca-fea475b83314"
      },
      "source": [
        "class LeNet5(nn.Module):\n",
        "    def __init__(self):\n",
        "        super(LeNet5, self).__init__()\n",
        "        self.conv_block_1 = nn.Sequential(\n",
        "            nn.Conv2d(\n",
        "                in_channels=1, out_channels=16, kernel_size=5,\n",
        "                stride=1, padding=2),\n",
        "            nn.BatchNorm2d(num_features=16),\n",
        "            nn.ReLU(),\n",
        "            nn.MaxPool2d(kernel_size=2))\n",
        "        self.conv_block_2 = nn.Sequential(\n",
        "            nn.Conv2d(\n",
        "                in_channels=16, out_channels=32, kernel_size=5,\n",
        "                stride=1, padding=2),\n",
        "            nn.BatchNorm2d(num_features=32),\n",
        "            nn.ReLU(),\n",
        "            nn.MaxPool2d(kernel_size=2))\n",
        "        self.flatten = nn.Flatten()\n",
        "        self.linear = nn.Linear(in_features=7*7*32, out_features=10)\n",
        "        \n",
        "        # To complete\n",
        "    def forward(self, x):\n",
        "        return nn.Sequential(\n",
        "            self.conv_block_1,\n",
        "            self.conv_block_2,\n",
        "            self.flatten,\n",
        "            self.linear\n",
        "        )(x)\n",
        "        \n",
        "model = LeNet5()\n",
        "model = model.to(device)\n",
        "  \n",
        "print(model)\n",
        "\n",
        "print(\"\\n\\n# Parameters: \", sum([param.nelement() for param in model.parameters()]))"
      ],
      "execution_count": 62,
      "outputs": [
        {
          "output_type": "stream",
          "text": [
            "LeNet5(\n",
            "  (conv_block_1): Sequential(\n",
            "    (0): Conv2d(1, 16, kernel_size=(5, 5), stride=(1, 1), padding=(2, 2))\n",
            "    (1): BatchNorm2d(16, eps=1e-05, momentum=0.1, affine=True, track_running_stats=True)\n",
            "    (2): ReLU()\n",
            "    (3): MaxPool2d(kernel_size=2, stride=2, padding=0, dilation=1, ceil_mode=False)\n",
            "  )\n",
            "  (conv_block_2): Sequential(\n",
            "    (0): Conv2d(16, 32, kernel_size=(5, 5), stride=(1, 1), padding=(2, 2))\n",
            "    (1): BatchNorm2d(32, eps=1e-05, momentum=0.1, affine=True, track_running_stats=True)\n",
            "    (2): ReLU()\n",
            "    (3): MaxPool2d(kernel_size=2, stride=2, padding=0, dilation=1, ceil_mode=False)\n",
            "  )\n",
            "  (flatten): Flatten(start_dim=1, end_dim=-1)\n",
            "  (linear): Linear(in_features=1568, out_features=10, bias=True)\n",
            ")\n",
            "\n",
            "\n",
            "# Parameters:  29034\n"
          ],
          "name": "stdout"
        }
      ]
    },
    {
      "cell_type": "markdown",
      "metadata": {
        "id": "271HrQBNccH1"
      },
      "source": [
        "Note that batch normalization adds parameters. Our new LeNet5 with batch normalization has 29 034 parameters (versus 28 938 for the original LeNet5 model without batch normalization)."
      ]
    },
    {
      "cell_type": "code",
      "metadata": {
        "id": "vnbesUOudO_s"
      },
      "source": [
        "# Save the initial weights of model\n",
        "init_model_wts = copy.deepcopy(model.state_dict())"
      ],
      "execution_count": 63,
      "outputs": []
    },
    {
      "cell_type": "markdown",
      "metadata": {
        "id": "rj4R3qV5ABFC"
      },
      "source": [
        "**The rest (i.e., the cost function, the optimizer, the training loops, and the testing procedures) remain unchanged!**"
      ]
    },
    {
      "cell_type": "code",
      "metadata": {
        "id": "JgEcoSRQAVtA",
        "colab": {
          "base_uri": "https://localhost:8080/"
        },
        "outputId": "be51a537-d915-4e52-a5cf-afabf44e1578"
      },
      "source": [
        "criterion = nn.CrossEntropyLoss()\n",
        "optimizer = torch.optim.SGD(model.parameters(), lr=learning_rate)\n",
        "model.load_state_dict(init_model_wts)\n",
        "\n",
        "since = time.time()\n",
        "\n",
        "num_epochs = 10\n",
        "train_loss_history = []\n",
        "valid_loss_history = []\n",
        "\n",
        "print(\"# Start training #\")\n",
        "for epoch in range(num_epochs):\n",
        "    \n",
        "    train_loss = 0\n",
        "    train_n_iter = 0\n",
        "    \n",
        "    # Set model to train mode\n",
        "    model.train()\n",
        "    \n",
        "    # Iterate over train data\n",
        "    for images, labels in train_loader:  \n",
        "\n",
        "        # put images on proper device (GPU)\n",
        "        images = images.to(device)\n",
        "        labels = labels.to(device)\n",
        "        \n",
        "        # Zero the gradient buffer\n",
        "        optimizer.zero_grad()\n",
        "        \n",
        "        # Forward pass\n",
        "        outputs = model(images)\n",
        "        \n",
        "        # Calculate loss\n",
        "        loss = criterion(outputs, labels)\n",
        "        \n",
        "        # Backward pass\n",
        "        loss.backward()\n",
        "        \n",
        "        # Optimize\n",
        "        optimizer.step()\n",
        "        \n",
        "        # Statistics\n",
        "        train_loss += loss.item()\n",
        "        train_n_iter += 1\n",
        "    \n",
        "    valid_loss = 0\n",
        "    valid_n_iter = 0\n",
        "    \n",
        "    # Set model to evaluate mode\n",
        "    model.eval()\n",
        "    \n",
        "    # Iterate over valid data\n",
        "    for images, labels in valid_loader:  \n",
        "        \n",
        "        # put images on proper device (GPU)\n",
        "        images = images.to(device)\n",
        "        labels = labels.to(device)\n",
        "        \n",
        "        # Forward pass\n",
        "        outputs = model(images)\n",
        "        \n",
        "        # Calculate loss\n",
        "        loss = criterion(outputs, labels)\n",
        "        \n",
        "        # Statistics\n",
        "        valid_loss += loss.item()\n",
        "        valid_n_iter += 1\n",
        "    \n",
        "    train_loss_history.append(train_loss / train_n_iter)\n",
        "    valid_loss_history.append(valid_loss / valid_n_iter)\n",
        "    \n",
        "    print('\\nEpoch: {}/{}'.format(epoch + 1, num_epochs))\n",
        "    print('\\tTrain Loss: {:.4f}'.format(train_loss / train_n_iter))\n",
        "    print('\\tValid Loss: {:.4f}'.format(valid_loss / valid_n_iter))\n",
        "\n",
        "time_elapsed = time.time() - since\n",
        "\n",
        "print('\\n\\nTraining complete in {:.0f}m {:.0f}s'.format(\n",
        "    time_elapsed // 60, time_elapsed % 60))"
      ],
      "execution_count": 64,
      "outputs": [
        {
          "output_type": "stream",
          "text": [
            "# Start training #\n",
            "\n",
            "Epoch: 1/10\n",
            "\tTrain Loss: 0.2970\n",
            "\tValid Loss: 0.1346\n",
            "\n",
            "Epoch: 2/10\n",
            "\tTrain Loss: 0.1059\n",
            "\tValid Loss: 0.0965\n",
            "\n",
            "Epoch: 3/10\n",
            "\tTrain Loss: 0.0802\n",
            "\tValid Loss: 0.0810\n",
            "\n",
            "Epoch: 4/10\n",
            "\tTrain Loss: 0.0671\n",
            "\tValid Loss: 0.0722\n",
            "\n",
            "Epoch: 5/10\n",
            "\tTrain Loss: 0.0586\n",
            "\tValid Loss: 0.0663\n",
            "\n",
            "Epoch: 6/10\n",
            "\tTrain Loss: 0.0526\n",
            "\tValid Loss: 0.0620\n",
            "\n",
            "Epoch: 7/10\n",
            "\tTrain Loss: 0.0480\n",
            "\tValid Loss: 0.0584\n",
            "\n",
            "Epoch: 8/10\n",
            "\tTrain Loss: 0.0443\n",
            "\tValid Loss: 0.0556\n",
            "\n",
            "Epoch: 9/10\n",
            "\tTrain Loss: 0.0412\n",
            "\tValid Loss: 0.0534\n",
            "\n",
            "Epoch: 10/10\n",
            "\tTrain Loss: 0.0386\n",
            "\tValid Loss: 0.0516\n",
            "\n",
            "\n",
            "Training complete in 0m 59s\n"
          ],
          "name": "stdout"
        }
      ]
    },
    {
      "cell_type": "markdown",
      "metadata": {
        "id": "6pxvS_yUeWog"
      },
      "source": [
        "We obtain even better results after 10 epochs!\n",
        "\n",
        "Let's have a look at the training and validation curves:"
      ]
    },
    {
      "cell_type": "code",
      "metadata": {
        "id": "hrv-o7Cle0ty",
        "colab": {
          "base_uri": "https://localhost:8080/",
          "height": 281
        },
        "outputId": "f0d0df58-343f-4fbd-a25a-e824cafb3770"
      },
      "source": [
        "# Save history for later\n",
        "lenet5_batchnorm_train_loss_history = train_loss_history\n",
        "lenet5_batchnorm_valid_loss_history = valid_loss_history\n",
        "\n",
        "# Plot training and validation curve\n",
        "x = range(1, num_epochs + 1)\n",
        "plt.plot(x, lenet5_train_loss_history, label='LeNet5 train')\n",
        "plt.plot(x, lenet5_valid_loss_history, label='LeNet5 valid')\n",
        "plt.plot(x, lenet5_batchnorm_train_loss_history, label='LeNet5 batch norm train')\n",
        "plt.plot(x, lenet5_batchnorm_valid_loss_history, label='LeNet5 batch norm valid')\n",
        "\n",
        "plt.xlabel('# epochs')\n",
        "plt.ylabel('Loss')\n",
        "plt.legend()\n",
        "\n",
        "plt.show()"
      ],
      "execution_count": 65,
      "outputs": [
        {
          "output_type": "display_data",
          "data": {
            "image/png": "[encoded data removed]",
            "text/plain": [
              "<Figure size 432x288 with 1 Axes>"
            ]
          },
          "metadata": {
            "tags": [],
            "needs_background": "light"
          }
        }
      ]
    },
    {
      "cell_type": "markdown",
      "metadata": {
        "id": "CHqHLCP6Crmp"
      },
      "source": [
        "# Transfer Learning : finetuning a CNN\n",
        "**Attribution:** this part of the tutorial is from: http://pytorch.org/tutorials/beginner/transfer_learning_tutorial.html\n",
        "\n",
        "In practice, very few people train an entire Convolutional Network from scratch (with random initialization), because it is relatively rare to have a dataset of sufficient size. Instead, it is common to pretrain a ConvNet on a very large dataset (e.g. ImageNet, which contains 1.2 million images with 1000 categories), and then use the ConvNet either as an initialization or a fixed feature extractor for the task of interest. This is referred to as transfer learning.\n",
        "\n",
        "We will now explore the finetuning of a convolutionational network."
      ]
    },
    {
      "cell_type": "markdown",
      "metadata": {
        "id": "itOkLFisvKqI"
      },
      "source": [
        "## Downloading the data and creating the data loader\n",
        "\n",
        "We will use torchvision and torch.utils.data packages for loading the data.\n",
        "\n",
        "The problem we’re going to solve today is to train a model to classify ants and bees. We have about 120 training images each for ants and bees. There are 75 validation images for each class. Usually, this is a very small dataset to generalize upon, if trained from scratch. Since we are using transfer learning, we should be able to generalize reasonably well.\n",
        "\n",
        "This dataset is a very small subset of imagenet.\n",
        "\n",
        "Here are a few example images from our training dataset:\n",
        "\n",
        "![Alt Text](https://github.com/mila-iqia/ecole_dl_mila_ivado/blob/master/tutoriaux/CNN/images/fourmi_abeille.png?raw=true)\n",
        "\n",
        "### Toolbox\n",
        "**Recall:** an easy way to load the data in PyTorch involves: \n",
        "<ol>\n",
        "<li>Sublcass<a href=\"http://pytorch.org/docs/master/data.html#torch.utils.data.Dataset\">`torch.utils.data.Dataset`</a> and write the `__getitem__` and `__len__` methods. (Note that these do not load the data in memory.)</li>\n",
        "<li>Use<a href=\"http://pytorch.org/docs/master/data.html#torch.utils.data.DataLoader\">`torch.utils.data.DataLoader`</a> to read and load the data into memory.</li>\n",
        "</ol>\n",
        "\n",
        "**Note:** <a href=\"http://pytorch.org/docs/master/torchvision/datasets.html#torchvision-datasets\">`torchvision.datasets`</a> provides an alternative for loading data from a directory.\n",
        "\n",
        "### Implementation"
      ]
    },
    {
      "cell_type": "code",
      "metadata": {
        "id": "_LW-1CauxEQM"
      },
      "source": [
        "%%bash\n",
        "## DOWNLOAD DATASET ##\n",
        "if [ ! -d \"hymenoptera_data\" ]; then\n",
        "  wget --quiet https://download.pytorch.org/tutorial/hymenoptera_data.zip\n",
        "  unzip -q hymenoptera_data.zip\n",
        "  rm hymenoptera_data.zip\n",
        "fi"
      ],
      "execution_count": 66,
      "outputs": []
    },
    {
      "cell_type": "code",
      "metadata": {
        "id": "OMvya9Oxps5z"
      },
      "source": [
        "import os\n",
        "from PIL import Image\n",
        "from torchvision import datasets\n",
        "\n",
        "\n",
        "def make_dataset(root, split_type):\n",
        "    \"\"\"\n",
        "    Parameters\n",
        "    ----------\n",
        "    root_dir : string\n",
        "    Directory with all the images.\n",
        "    split_type : string\n",
        "    The name of the split in {'train', 'valid'}.\n",
        "\n",
        "    Returns\n",
        "    -------\n",
        "    images : dict\n",
        "    Dict of images path for each classes for a specific split type.\n",
        "    \"\"\"\n",
        "\n",
        "    images = {}\n",
        "    root = os.path.join(root, split_type)\n",
        "\n",
        "    for classes in sorted(os.listdir(root)):\n",
        "        images[classes] = []\n",
        "        path_classes = os.path.join(root, classes)\n",
        "\n",
        "        for root_, _, fnames in sorted(os.walk(path_classes)):\n",
        "            for fname in sorted(fnames):\n",
        "                if fname.endswith('.jpg'):\n",
        "                    item = os.path.join(root_, fname)\n",
        "                    images[classes].append(item)\n",
        "\n",
        "    return images\n",
        "\n",
        "\n",
        "class HymenopteraDataset(torch.utils.data.Dataset):\n",
        "    \"\"\"Hymenoptera dataset.\"\"\"\n",
        "\n",
        "    def __init__(self, root_dir, split_type='train', transform=None):\n",
        "        \"\"\"\n",
        "        Parameters\n",
        "        ----------\n",
        "        root_dir : string\n",
        "           Directory with all the images.\n",
        "        split_type : string\n",
        "           The name of the split in {'train', 'valid', 'test', 'train_valid'}.\n",
        "        transform : callable, optional\n",
        "           Optional transform to be applied on a sample.\n",
        "        \"\"\"\n",
        "        self.root_dir = root_dir\n",
        "        self.split_type = split_type\n",
        "        self.transform = transform\n",
        "        self.classes = {'ants': 0, 'bees': 1}\n",
        "\n",
        "        imgs_ = []\n",
        "        target_ = []\n",
        "\n",
        "        if split_type == 'train':\n",
        "            imgs = make_dataset(root_dir, 'train')\n",
        "            for k, v in imgs.items():\n",
        "                imgs_ += imgs[k][:int(0.8*len(v))]\n",
        "                target_ += [self.classes[k]] * len(imgs_)\n",
        "\n",
        "        elif split_type == 'valid':\n",
        "            imgs = make_dataset(root_dir, 'train')\n",
        "            for k, v in imgs.items():\n",
        "                imgs_ += imgs[k][int(0.8*len(v)):]\n",
        "                target_ += [self.classes[k]] * len(imgs_)\n",
        "\n",
        "        elif split_type == 'train_valid':\n",
        "            imgs = make_dataset(root_dir, 'train')\n",
        "            for k, v in imgs.items():\n",
        "                imgs_ += imgs[k]\n",
        "                target_ += [self.classes[k]] * len(imgs_)\n",
        "\n",
        "        elif split_type == 'test':\n",
        "            imgs = make_dataset(root_dir, 'val')\n",
        "            for k, v in imgs.items():\n",
        "                imgs_ += imgs[k]\n",
        "                target_ += [self.classes[k]] * len(imgs_)\n",
        "\n",
        "        self.imgs = imgs_\n",
        "        self.target = np.array(target_)\n",
        "\n",
        "    def __len__(self):\n",
        "        \"\"\"Get the number of image in the dataset.\n",
        "\n",
        "        Returns\n",
        "        -------\n",
        "        int\n",
        "           The number of images in the dataset.\n",
        "        \"\"\"\n",
        "        return len(self.imgs)\n",
        "\n",
        "    def __getitem__(self, index):\n",
        "        \"\"\"Get the items : image, target\n",
        "\n",
        "        Parameters\n",
        "        ----------\n",
        "        index : int\n",
        "           Index\n",
        "\n",
        "        Returns\n",
        "        -------\n",
        "        img : tensor\n",
        "           The image.\n",
        "        target : int\n",
        "           Target is class_index of the target class.\n",
        "        \"\"\"\n",
        "        path = self.imgs[index]\n",
        "        target = self.target[index]\n",
        "\n",
        "        with open(path, 'rb') as f:\n",
        "            with Image.open(f) as img:\n",
        "                img.convert('RGB')\n",
        "\n",
        "                if self.transform:\n",
        "                    img = self.transform(img)\n",
        "\n",
        "        return img, target\n"
      ],
      "execution_count": 67,
      "outputs": []
    },
    {
      "cell_type": "markdown",
      "metadata": {
        "id": "c9BHo5WsOghr"
      },
      "source": [
        "## Data augmentation\n",
        "\n",
        "Data augmentation is a trick which can be used to augment the effective size of your training data. This can, in turn, help reduce overfitting. It consists in creating new data by transforming available training data. For example for images, we can resize, stretch, rotate, mirror them to obtain additional images. Here are some examples of image augmentations (right) from an original image (left): \n",
        "\n",
        "![Alt Text](https://github.com/mila-iqia/ecole_dl_mila_ivado/blob/master/tutoriaux/CNN/images/1_Jujct_Pt-zvdWtSFpHUp3Q.png?raw=true)\n",
        "\n",
        "\n",
        "To augment your data, <a href=\"http://pytorch.org/docs/master/torchvision/transforms.html#torchvision-transforms\">`torchvision.transforms`</a> \n",
        "provides common image transformations. These transformations can be applied successively by using<a href=\"http://pytorch.org/docs/master/torchvision/transforms.html#torchvision.transforms.Compose\">`torchvision.transforms.Compose`</a>.\n",
        "\n",
        "Add the following transformations using your training data:\n",
        "* Random crop to resize each image to size 224x224\n",
        "* Some probability of taking a mirror of the image \n",
        "* An image normalization with the following means and standard deviations: [0.485, 0.456, 0.406], [0.229, 0.224, 0.225]\n",
        "\n",
        "For the validation data, resize the image to have size 256x256, take a crop starting from the center and normalize the image with the same values as used for the training data."
      ]
    },
    {
      "cell_type": "code",
      "metadata": {
        "id": "v94wZLuOp4m3"
      },
      "source": [
        "# Data augmentation and normalization for training\n",
        "# Just normalization for validation\n",
        "data_transforms = {\n",
        "    'train': transforms.Compose([\n",
        "        transforms.RandomResizedCrop(224),\n",
        "        transforms.RandomHorizontalFlip(),\n",
        "        transforms.ToTensor(),\n",
        "        transforms.Normalize([0.485, 0.456, 0.406], [0.229, 0.224, 0.225])\n",
        "    ]),\n",
        "    'valid': transforms.Compose([\n",
        "        transforms.Resize(256),\n",
        "        transforms.CenterCrop(224),\n",
        "        transforms.ToTensor(),\n",
        "        transforms.Normalize([0.485, 0.456, 0.406], [0.229, 0.224, 0.225])\n",
        "    ])\n",
        "}"
      ],
      "execution_count": 68,
      "outputs": []
    },
    {
      "cell_type": "code",
      "metadata": {
        "id": "8i9eB9I_p5sJ",
        "colab": {
          "base_uri": "https://localhost:8080/"
        },
        "outputId": "43f756c8-7e2a-4e8e-ea38-64a90f22bdf8"
      },
      "source": [
        "# Dataset loader\n",
        "data_dir = 'hymenoptera_data'\n",
        "\n",
        "data_train = HymenopteraDataset(data_dir, 'train', data_transforms['train'])\n",
        "train_loader = DataLoader(data_train, batch_size=4, shuffle=True, num_workers=4)\n",
        "\n",
        "data_valid = HymenopteraDataset(data_dir, 'valid', data_transforms['valid'])\n",
        "valid_loader = DataLoader(data_valid, batch_size=4, shuffle=False, num_workers=4)\n",
        "\n",
        "data_test = HymenopteraDataset(data_dir, 'test', data_transforms['valid'])\n",
        "test_loader = DataLoader(data_test, batch_size=4, shuffle=False, num_workers=4)\n",
        "\n",
        "print('# images in data train: {}'.format(len(data_train)))\n",
        "print('# images in data valid: {}'.format(len(data_valid)))\n",
        "print('# images in data test: {}'.format(len(data_test)))"
      ],
      "execution_count": 69,
      "outputs": [
        {
          "output_type": "stream",
          "text": [
            "# images in data train: 193\n",
            "# images in data valid: 50\n",
            "# images in data test: 153\n"
          ],
          "name": "stdout"
        }
      ]
    },
    {
      "cell_type": "markdown",
      "metadata": {
        "id": "Pl1X1vt5AVaf"
      },
      "source": [
        "Let's have a look at our training data!"
      ]
    },
    {
      "cell_type": "code",
      "metadata": {
        "id": "f4kbOO5XAUO5",
        "colab": {
          "base_uri": "https://localhost:8080/",
          "height": 333
        },
        "outputId": "895e0db2-7d69-44fd-e5c9-d8915fcafc1c"
      },
      "source": [
        "inputs, classes = next(iter(train_loader))\n",
        "\n",
        "print('Classes: {}'.format(data_train.classes))\n",
        "print('Inputs size: {}'.format(inputs.size()))\n",
        "print('Classes size: {}'.format(classes.size()))\n",
        "\n",
        "# Random image of the batch\n",
        "idx = np.random.randint(len(inputs))\n",
        "img = inputs[idx]\n",
        "labels = list(data_train.classes.keys())\n",
        "img_label = labels[(classes[idx])]\n",
        "\n",
        "img = img.numpy().transpose((1, 2, 0))\n",
        "mean = np.array([0.485, 0.456, 0.406])\n",
        "std = np.array([0.229, 0.224, 0.225])\n",
        "img = std * img + mean\n",
        "img = np.clip(img, 0, 1)\n",
        "plt.imshow(img)\n",
        "plt.title(img_label)\n",
        "plt.grid(False)\n",
        "plt.show()"
      ],
      "execution_count": 70,
      "outputs": [
        {
          "output_type": "stream",
          "text": [
            "Classes: {'ants': 0, 'bees': 1}\n",
            "Inputs size: torch.Size([4, 3, 224, 224])\n",
            "Classes size: torch.Size([4])\n"
          ],
          "name": "stdout"
        },
        {
          "output_type": "display_data",
          "data": {
            "image/png": "[encoded data removed]",
            "text/plain": [
              "<Figure size 432x288 with 1 Axes>"
            ]
          },
          "metadata": {
            "tags": [],
            "needs_background": "light"
          }
        }
      ]
    },
    {
      "cell_type": "code",
      "metadata": {
        "id": "qh3bKAO7Lf14",
        "colab": {
          "base_uri": "https://localhost:8080/",
          "height": 148
        },
        "outputId": "3c1d9344-3148-4c85-8d58-5dd06c6873f3"
      },
      "source": [
        "import torchvision\n",
        "\n",
        "def imshow(img, title=None):\n",
        "    \"\"\"Imshow for Tensor.\"\"\"\n",
        "    img = img.numpy().transpose((1, 2, 0))\n",
        "    mean = np.array([0.485, 0.456, 0.406])\n",
        "    std = np.array([0.229, 0.224, 0.225])\n",
        "    img = std * img + mean\n",
        "    img = np.clip(img, 0, 1)\n",
        "    plt.imshow(img)\n",
        "    if title is not None:\n",
        "        plt.title(title)\n",
        "    plt.grid(False)\n",
        "    plt.show()\n",
        "\n",
        "inputs, classes = next(iter(train_loader))\n",
        "\n",
        "out = torchvision.utils.make_grid(inputs)\n",
        "\n",
        "class_names = data_train.classes\n",
        "class_names = {class_names[k]: k for k in class_names.keys()}\n",
        "\n",
        "imshow(out, title=[class_names[int(x)] for x in classes])"
      ],
      "execution_count": 71,
      "outputs": [
        {
          "output_type": "display_data",
          "data": {
            "image/png": "[encoded data removed]",
            "text/plain": [
              "<Figure size 432x288 with 1 Axes>"
            ]
          },
          "metadata": {
            "tags": [],
            "needs_background": "light"
          }
        }
      ]
    },
    {
      "cell_type": "markdown",
      "metadata": {
        "id": "gN9JbYASp4tE"
      },
      "source": [
        "## Determing the network's architecture\n",
        "### Toolbox\n",
        "\n",
        "We will reuse a network pre-trained on ImageNet. To do so, we first load the pre-trained model and reinitialize its final layer (the fully connected one). Luckily, in PyTorch <a href=\"http://pytorch.org/docs/0.1.12/torchvision/models.html#module-torchvision.models\">`torchvision.models`</a>\n",
        "proposes pre-trained models on ImageNet. \n",
        "\n",
        "A common choice for classification problem (our setting) is to use the *ResNet18* model. For more information regarding this model, see [article](https://arxiv.org/abs/1512.03385). Useful information is also provided in the PyTorch documentation of the model:\n",
        "<a href=\"http://pytorch.org/docs/0.1.12/torchvision/models.html#torchvision.models.resnet18\">`torchvision.models.resnet18(pretrained=True)`</a>\n",
        "\n",
        "Here is an example of a residual bloc (residual blocks are the core of residual networks such as *ResNet18*).\n",
        "\n",
        "![Alt Text](https://github.com/mila-iqia/ecole_dl_mila_ivado/blob/master/tutoriaux/CNN/images/bloc_residuel.png?raw=true)\n",
        "\n",
        "\n",
        "**Recall:** <a href=\"http://pytorch.org/docs/master/nn.html#torch.nn.Linear\">`torch.nn.Linear(in_features, out_features)`</a> performs a linear transformation to input data x: y = Ax + b.\n",
        "\n",
        "### Implement"
      ]
    },
    {
      "cell_type": "markdown",
      "metadata": {
        "id": "TiQfdQxiMJPQ"
      },
      "source": [
        "To gain insights into the value of pre-trained networks, we will first train a network from scratch and then compare it to a pre-trained version of the same model."
      ]
    },
    {
      "cell_type": "code",
      "metadata": {
        "id": "nxBgVe4NISea",
        "colab": {
          "base_uri": "https://localhost:8080/"
        },
        "outputId": "604c3a1f-3c8a-47cc-d8c2-4f756b8d0df3"
      },
      "source": [
        "from torchvision import models\n",
        "\n",
        "# Load non-pre-trained resnet18 model\n",
        "model = models.resnet18(pretrained=False)\n",
        "\n",
        "# Reset last layer\n",
        "num_ftrs = model.fc.in_features\n",
        "model.fc = nn.Linear(num_ftrs, 2)\n",
        "\n",
        "model = model.to(device)\n",
        "\n",
        "print(model)\n",
        "\n",
        "print(\"\\n\\n# Parameters: \", sum([param.nelement() for param in model.parameters()]))"
      ],
      "execution_count": 72,
      "outputs": [
        {
          "output_type": "stream",
          "text": [
            "ResNet(\n",
            "  (conv1): Conv2d(3, 64, kernel_size=(7, 7), stride=(2, 2), padding=(3, 3), bias=False)\n",
            "  (bn1): BatchNorm2d(64, eps=1e-05, momentum=0.1, affine=True, track_running_stats=True)\n",
            "  (relu): ReLU(inplace=True)\n",
            "  (maxpool): MaxPool2d(kernel_size=3, stride=2, padding=1, dilation=1, ceil_mode=False)\n",
            "  (layer1): Sequential(\n",
            "    (0): BasicBlock(\n",
            "      (conv1): Conv2d(64, 64, kernel_size=(3, 3), stride=(1, 1), padding=(1, 1), bias=False)\n",
            "      (bn1): BatchNorm2d(64, eps=1e-05, momentum=0.1, affine=True, track_running_stats=True)\n",
            "      (relu): ReLU(inplace=True)\n",
            "      (conv2): Conv2d(64, 64, kernel_size=(3, 3), stride=(1, 1), padding=(1, 1), bias=False)\n",
            "      (bn2): BatchNorm2d(64, eps=1e-05, momentum=0.1, affine=True, track_running_stats=True)\n",
            "    )\n",
            "    (1): BasicBlock(\n",
            "      (conv1): Conv2d(64, 64, kernel_size=(3, 3), stride=(1, 1), padding=(1, 1), bias=False)\n",
            "      (bn1): BatchNorm2d(64, eps=1e-05, momentum=0.1, affine=True, track_running_stats=True)\n",
            "      (relu): ReLU(inplace=True)\n",
            "      (conv2): Conv2d(64, 64, kernel_size=(3, 3), stride=(1, 1), padding=(1, 1), bias=False)\n",
            "      (bn2): BatchNorm2d(64, eps=1e-05, momentum=0.1, affine=True, track_running_stats=True)\n",
            "    )\n",
            "  )\n",
            "  (layer2): Sequential(\n",
            "    (0): BasicBlock(\n",
            "      (conv1): Conv2d(64, 128, kernel_size=(3, 3), stride=(2, 2), padding=(1, 1), bias=False)\n",
            "      (bn1): BatchNorm2d(128, eps=1e-05, momentum=0.1, affine=True, track_running_stats=True)\n",
            "      (relu): ReLU(inplace=True)\n",
            "      (conv2): Conv2d(128, 128, kernel_size=(3, 3), stride=(1, 1), padding=(1, 1), bias=False)\n",
            "      (bn2): BatchNorm2d(128, eps=1e-05, momentum=0.1, affine=True, track_running_stats=True)\n",
            "      (downsample): Sequential(\n",
            "        (0): Conv2d(64, 128, kernel_size=(1, 1), stride=(2, 2), bias=False)\n",
            "        (1): BatchNorm2d(128, eps=1e-05, momentum=0.1, affine=True, track_running_stats=True)\n",
            "      )\n",
            "    )\n",
            "    (1): BasicBlock(\n",
            "      (conv1): Conv2d(128, 128, kernel_size=(3, 3), stride=(1, 1), padding=(1, 1), bias=False)\n",
            "      (bn1): BatchNorm2d(128, eps=1e-05, momentum=0.1, affine=True, track_running_stats=True)\n",
            "      (relu): ReLU(inplace=True)\n",
            "      (conv2): Conv2d(128, 128, kernel_size=(3, 3), stride=(1, 1), padding=(1, 1), bias=False)\n",
            "      (bn2): BatchNorm2d(128, eps=1e-05, momentum=0.1, affine=True, track_running_stats=True)\n",
            "    )\n",
            "  )\n",
            "  (layer3): Sequential(\n",
            "    (0): BasicBlock(\n",
            "      (conv1): Conv2d(128, 256, kernel_size=(3, 3), stride=(2, 2), padding=(1, 1), bias=False)\n",
            "      (bn1): BatchNorm2d(256, eps=1e-05, momentum=0.1, affine=True, track_running_stats=True)\n",
            "      (relu): ReLU(inplace=True)\n",
            "      (conv2): Conv2d(256, 256, kernel_size=(3, 3), stride=(1, 1), padding=(1, 1), bias=False)\n",
            "      (bn2): BatchNorm2d(256, eps=1e-05, momentum=0.1, affine=True, track_running_stats=True)\n",
            "      (downsample): Sequential(\n",
            "        (0): Conv2d(128, 256, kernel_size=(1, 1), stride=(2, 2), bias=False)\n",
            "        (1): BatchNorm2d(256, eps=1e-05, momentum=0.1, affine=True, track_running_stats=True)\n",
            "      )\n",
            "    )\n",
            "    (1): BasicBlock(\n",
            "      (conv1): Conv2d(256, 256, kernel_size=(3, 3), stride=(1, 1), padding=(1, 1), bias=False)\n",
            "      (bn1): BatchNorm2d(256, eps=1e-05, momentum=0.1, affine=True, track_running_stats=True)\n",
            "      (relu): ReLU(inplace=True)\n",
            "      (conv2): Conv2d(256, 256, kernel_size=(3, 3), stride=(1, 1), padding=(1, 1), bias=False)\n",
            "      (bn2): BatchNorm2d(256, eps=1e-05, momentum=0.1, affine=True, track_running_stats=True)\n",
            "    )\n",
            "  )\n",
            "  (layer4): Sequential(\n",
            "    (0): BasicBlock(\n",
            "      (conv1): Conv2d(256, 512, kernel_size=(3, 3), stride=(2, 2), padding=(1, 1), bias=False)\n",
            "      (bn1): BatchNorm2d(512, eps=1e-05, momentum=0.1, affine=True, track_running_stats=True)\n",
            "      (relu): ReLU(inplace=True)\n",
            "      (conv2): Conv2d(512, 512, kernel_size=(3, 3), stride=(1, 1), padding=(1, 1), bias=False)\n",
            "      (bn2): BatchNorm2d(512, eps=1e-05, momentum=0.1, affine=True, track_running_stats=True)\n",
            "      (downsample): Sequential(\n",
            "        (0): Conv2d(256, 512, kernel_size=(1, 1), stride=(2, 2), bias=False)\n",
            "        (1): BatchNorm2d(512, eps=1e-05, momentum=0.1, affine=True, track_running_stats=True)\n",
            "      )\n",
            "    )\n",
            "    (1): BasicBlock(\n",
            "      (conv1): Conv2d(512, 512, kernel_size=(3, 3), stride=(1, 1), padding=(1, 1), bias=False)\n",
            "      (bn1): BatchNorm2d(512, eps=1e-05, momentum=0.1, affine=True, track_running_stats=True)\n",
            "      (relu): ReLU(inplace=True)\n",
            "      (conv2): Conv2d(512, 512, kernel_size=(3, 3), stride=(1, 1), padding=(1, 1), bias=False)\n",
            "      (bn2): BatchNorm2d(512, eps=1e-05, momentum=0.1, affine=True, track_running_stats=True)\n",
            "    )\n",
            "  )\n",
            "  (avgpool): AdaptiveAvgPool2d(output_size=(1, 1))\n",
            "  (fc): Linear(in_features=512, out_features=2, bias=True)\n",
            ")\n",
            "\n",
            "\n",
            "# Parameters:  11177538\n"
          ],
          "name": "stdout"
        }
      ]
    },
    {
      "cell_type": "code",
      "metadata": {
        "id": "vQTyN1tkZyYG"
      },
      "source": [
        "# Save the initial weights of model\n",
        "init_model_wts = copy.deepcopy(model.state_dict())"
      ],
      "execution_count": 73,
      "outputs": []
    },
    {
      "cell_type": "markdown",
      "metadata": {
        "id": "x_ut6uP0qpWW"
      },
      "source": [
        "## Determine the cost function and the optimization method\n",
        "### Toolbox\n",
        "**Recall:** A common choice for a multi-class task are the following:\n",
        "<ul>\n",
        "<li>**Cost function :** <a href=\"http://pytorch.org/docs/master/nn.html#torch.nn.CrossEntropyLoss\">`torch.nn.CrossEntropyLoss()`</a>. The cross entropy is often used in this context. It compares a (multivariate) distribution $p$ with a reference distribution $t$. It is minimized for $p=t$ and it is expressed mathematically by: $-\\sum_j t_{ij} \\log(p_{ij})$ where $p$ is the prediction,, $t$ the target, $i$ are examples and $j$ the target class.</li>\n",
        "<li>**Optimization method :** <a href=\"http://pytorch.org/docs/master/optim.html#torch.optim.SGD\">`torch.optim.SGD(net.parameters(), lr=learning_rate)`</a> a standard stochastic gradient descent (SGD) implementation. Here use a learning rate of $1e-3$ and a momentum of $0.9$</li>\n",
        "</ul>\n",
        "\n",
        "### Implementation"
      ]
    },
    {
      "cell_type": "code",
      "metadata": {
        "id": "JW00K1Ssqqcm"
      },
      "source": [
        "criterion = nn.CrossEntropyLoss()\n",
        "\n",
        "learning_rate = 1e-3\n",
        "optimizer = torch.optim.SGD(model.parameters(), lr=learning_rate)"
      ],
      "execution_count": 74,
      "outputs": []
    },
    {
      "cell_type": "markdown",
      "metadata": {
        "id": "9uhoTb410Utx"
      },
      "source": [
        "## Training a network\n",
        "### Toolbox\n",
        "\n",
        "**Recall:** Training a network usually involves iterating for multiple epochs over the training dataset. One epoch corresponds to one pass over the full dataset. The dataset is usually divided into batches. Each epoch will then receive sequentially batches. For each batch we do the following operations:\n",
        "<ol>\n",
        "<li>`optimizer.zero_grad()`: we clear the previously stored gradients.</li>\n",
        "<li>`loss.backward()`: we evaluate the cost, the gradients and backpropagate the gradients through the computation graph.</li>\n",
        "<li>`optimizer.step()`: we update the parameters using the previously calculated gradients. For SGD, the update is: `weight = weight - learning_rate * gradient`. Adam is similar but also adds bells and whistles (e.g., it adapts the learning rate over time for each parameter)</li>\n",
        "</ol>\n",
        "\n",
        "**Bonus:** To train deep neural networks we often use these additional tricks:\n",
        "<ul>\n",
        "<li>early stopping: monitors the validation error of the model and stops training if it begins to overfit (e.g., if it stops improving).</li>\n",
        "<li>checkpointing: To do so, it is common to save the network's weight (you can obtain them using `model.state_dict()`) throughout training.</li>\n",
        "<li>printing execution time. To do so, you can use `time.time()`.</li>\n",
        "</ul>\n",
        "\n",
        "### Implementation"
      ]
    },
    {
      "cell_type": "code",
      "metadata": {
        "id": "hXNpyIj_wxRP",
        "colab": {
          "base_uri": "https://localhost:8080/"
        },
        "outputId": "316e1306-aaea-4276-f60f-c7ca5b349b3a"
      },
      "source": [
        "import time\n",
        "\n",
        "since = time.time()\n",
        "\n",
        "best_model_wts = copy.deepcopy(model.state_dict())\n",
        "\n",
        "num_epochs = 25\n",
        "best_acc = 0.0\n",
        "\n",
        "train_loss_history = []\n",
        "valid_loss_history = []\n",
        "\n",
        "print(\"# Start training #\")\n",
        "for epoch in range(num_epochs):\n",
        "    \n",
        "    train_loss = 0\n",
        "    train_n_iter = 0\n",
        "    \n",
        "    # Set model to train mode\n",
        "    model.train()\n",
        "    \n",
        "    # Iterate over train data\n",
        "    for images, labels in train_loader:  \n",
        "        \n",
        "        # put images on proper device (GPU)\n",
        "        images = images.to(device)\n",
        "        labels = labels.to(device)\n",
        "\n",
        "        # Zero the gradient buffer\n",
        "        optimizer.zero_grad()\n",
        "        \n",
        "        # Forward Pass\n",
        "        outputs = model(images)\n",
        "        \n",
        "        loss = criterion(outputs, labels)\n",
        "        \n",
        "        # Backward Pass\n",
        "        loss.backward()\n",
        "        \n",
        "        # Optimize\n",
        "        optimizer.step()\n",
        "        \n",
        "        # Statistics\n",
        "        train_loss += loss.item()\n",
        "        train_n_iter += 1\n",
        "    \n",
        "    valid_loss = 0\n",
        "    valid_n_iter = 0\n",
        "    \n",
        "    # Set model to evaluate mode\n",
        "    model.eval()\n",
        "    \n",
        "    # Iterate over valid data\n",
        "    total = 0\n",
        "    correct = 0\n",
        "    for images, labels in valid_loader:  \n",
        "        \n",
        "        # put images on proper device (GPU)\n",
        "        images = images.to(device)\n",
        "        labels = labels.to(device)\n",
        "        \n",
        "        # Forward\n",
        "        outputs = model(images)\n",
        "        _, predicted = torch.max(outputs.data, 1)\n",
        "        \n",
        "        loss = criterion(outputs, labels)\n",
        "    \n",
        "        # Statistics\n",
        "        total += labels.size(0)\n",
        "        correct += torch.sum(predicted == labels.data)\n",
        "        valid_loss += loss.item()\n",
        "        valid_n_iter += 1\n",
        "    \n",
        "    epoch_acc = 100 * correct / total\n",
        "    \n",
        "    # Deep copy the best model\n",
        "    if epoch_acc > best_acc:\n",
        "        best_acc = epoch_acc\n",
        "        best_model_wts = copy.deepcopy(model.state_dict())\n",
        "    \n",
        "    train_loss_history.append(train_loss / train_n_iter)\n",
        "    valid_loss_history.append(valid_loss / valid_n_iter)\n",
        "    \n",
        "    print('\\nEpoch: {}/{}'.format(epoch + 1, num_epochs))\n",
        "    print('\\tTrain Loss: {:.4f}'.format(train_loss / train_n_iter))\n",
        "    print('\\tValid Loss: {:.4f}'.format(valid_loss / valid_n_iter))\n",
        "\n",
        "time_elapsed = time.time() - since\n",
        "\n",
        "print('\\n\\nTraining complete in {:.0f}m {:.0f}s'.format(\n",
        "    time_elapsed // 60, time_elapsed % 60))\n",
        "\n",
        "print('\\n\\nBest valid accuracy: {:.2f}'.format(best_acc))"
      ],
      "execution_count": 75,
      "outputs": [
        {
          "output_type": "stream",
          "text": [
            "# Start training #\n",
            "\n",
            "Epoch: 1/25\n",
            "\tTrain Loss: 0.6994\n",
            "\tValid Loss: 0.6803\n",
            "\n",
            "Epoch: 2/25\n",
            "\tTrain Loss: 0.6738\n",
            "\tValid Loss: 0.6927\n",
            "\n",
            "Epoch: 3/25\n",
            "\tTrain Loss: 0.6959\n",
            "\tValid Loss: 0.6819\n",
            "\n",
            "Epoch: 4/25\n",
            "\tTrain Loss: 0.6597\n",
            "\tValid Loss: 0.7711\n",
            "\n",
            "Epoch: 5/25\n",
            "\tTrain Loss: 0.6489\n",
            "\tValid Loss: 0.7381\n",
            "\n",
            "Epoch: 6/25\n",
            "\tTrain Loss: 0.6705\n",
            "\tValid Loss: 0.7321\n",
            "\n",
            "Epoch: 7/25\n",
            "\tTrain Loss: 0.6758\n",
            "\tValid Loss: 0.6861\n",
            "\n",
            "Epoch: 8/25\n",
            "\tTrain Loss: 0.6312\n",
            "\tValid Loss: 0.7109\n",
            "\n",
            "Epoch: 9/25\n",
            "\tTrain Loss: 0.6429\n",
            "\tValid Loss: 0.6847\n",
            "\n",
            "Epoch: 10/25\n",
            "\tTrain Loss: 0.6158\n",
            "\tValid Loss: 0.6972\n",
            "\n",
            "Epoch: 11/25\n",
            "\tTrain Loss: 0.6208\n",
            "\tValid Loss: 0.7603\n",
            "\n",
            "Epoch: 12/25\n",
            "\tTrain Loss: 0.6445\n",
            "\tValid Loss: 0.7310\n",
            "\n",
            "Epoch: 13/25\n",
            "\tTrain Loss: 0.6325\n",
            "\tValid Loss: 0.7068\n",
            "\n",
            "Epoch: 14/25\n",
            "\tTrain Loss: 0.6027\n",
            "\tValid Loss: 0.7248\n",
            "\n",
            "Epoch: 15/25\n",
            "\tTrain Loss: 0.6334\n",
            "\tValid Loss: 0.7619\n",
            "\n",
            "Epoch: 16/25\n",
            "\tTrain Loss: 0.5803\n",
            "\tValid Loss: 0.7449\n",
            "\n",
            "Epoch: 17/25\n",
            "\tTrain Loss: 0.6296\n",
            "\tValid Loss: 0.7274\n",
            "\n",
            "Epoch: 18/25\n",
            "\tTrain Loss: 0.6083\n",
            "\tValid Loss: 0.7374\n",
            "\n",
            "Epoch: 19/25\n",
            "\tTrain Loss: 0.6112\n",
            "\tValid Loss: 0.7009\n",
            "\n",
            "Epoch: 20/25\n",
            "\tTrain Loss: 0.5935\n",
            "\tValid Loss: 0.6724\n",
            "\n",
            "Epoch: 21/25\n",
            "\tTrain Loss: 0.6098\n",
            "\tValid Loss: 0.7035\n",
            "\n",
            "Epoch: 22/25\n",
            "\tTrain Loss: 0.5793\n",
            "\tValid Loss: 0.8155\n",
            "\n",
            "Epoch: 23/25\n",
            "\tTrain Loss: 0.5639\n",
            "\tValid Loss: 0.7637\n",
            "\n",
            "Epoch: 24/25\n",
            "\tTrain Loss: 0.5946\n",
            "\tValid Loss: 0.7851\n",
            "\n",
            "Epoch: 25/25\n",
            "\tTrain Loss: 0.6219\n",
            "\tValid Loss: 0.8072\n",
            "\n",
            "\n",
            "Training complete in 1m 1s\n",
            "\n",
            "\n",
            "Best valid accuracy: 68.00\n"
          ],
          "name": "stdout"
        }
      ]
    },
    {
      "cell_type": "markdown",
      "metadata": {
        "id": "Xr8-PgSmiQSF"
      },
      "source": [
        "Let's visualize the training and validation curves:"
      ]
    },
    {
      "cell_type": "code",
      "metadata": {
        "id": "njb7oaT-hfk3",
        "colab": {
          "base_uri": "https://localhost:8080/",
          "height": 279
        },
        "outputId": "cca84614-c894-4b9d-dcac-1b99fd40c740"
      },
      "source": [
        "resnet18_train_loss_history = train_loss_history\n",
        "resnet18_valid_loss_history = valid_loss_history\n",
        "\n",
        "# Plot training and validation curve\n",
        "x = range(1, num_epochs + 1)\n",
        "plt.plot(x, resnet18_train_loss_history, label='ResNet18 train')\n",
        "plt.plot(x, resnet18_valid_loss_history, label='ResNet18 valid')\n",
        "\n",
        "plt.xlabel('# epochs')\n",
        "plt.ylabel('Loss')\n",
        "plt.legend()\n",
        "\n",
        "plt.show()"
      ],
      "execution_count": 76,
      "outputs": [
        {
          "output_type": "display_data",
          "data": {
            "image/png": "[encoded data removed]",
            "text/plain": [
              "<Figure size 432x288 with 1 Axes>"
            ]
          },
          "metadata": {
            "tags": [],
            "needs_background": "light"
          }
        }
      ]
    },
    {
      "cell_type": "markdown",
      "metadata": {
        "id": "Vcqa0H5p-FHq"
      },
      "source": [
        "## Testing the network\n",
        "### Toolbox\n",
        "**Recall:** we evaluate the network's performance on test data.\n",
        "\n",
        "**Note:** Here, we do not have a test set so we will use the validation set instead (DO NOT DO THIS IN PRACTICE).\n",
        "\n",
        "**Using the best model:** we want to reuse the weights from the best model to evaluate it on a new dataset (here validation data). These weights have been saved in the training phase in `best_model_wts`. To load them, you can use `model.load_state_dict(best_model_wts)`.\n",
        "\n",
        "### Implementation"
      ]
    },
    {
      "cell_type": "code",
      "metadata": {
        "id": "C1DCCblW_EPo",
        "colab": {
          "base_uri": "https://localhost:8080/"
        },
        "outputId": "bc1c998a-18aa-4f37-a585-128f2ac759c1"
      },
      "source": [
        "# Load best model weights\n",
        "model.load_state_dict(best_model_wts)\n",
        "\n",
        "# Set model to evaluate mode\n",
        "model.eval()\n",
        "\n",
        "correct = 0\n",
        "total = 0\n",
        "\n",
        "# Iterate over test data\n",
        "for images, labels in test_loader:\n",
        "    \n",
        "    # put images on proper device (GPU)\n",
        "    images = images.to(device)\n",
        "    labels = labels.to(device)\n",
        "    \n",
        "    # Forward\n",
        "    outputs = model(images)\n",
        "    _, predicted = torch.max(outputs.data, 1)\n",
        "    \n",
        "    # Statistics\n",
        "    total += labels.size(0)\n",
        "    correct += torch.sum(predicted == labels.data)\n",
        "\n",
        "print('Accuracy on the test set: {:.2f}%'.format(100 * correct / total))"
      ],
      "execution_count": 77,
      "outputs": [
        {
          "output_type": "stream",
          "text": [
            "Accuracy on the test set: 62.09%\n"
          ],
          "name": "stdout"
        }
      ]
    },
    {
      "cell_type": "markdown",
      "metadata": {
        "id": "d38Q32VMN0Hb"
      },
      "source": [
        "With pre-trained weights:"
      ]
    },
    {
      "cell_type": "code",
      "metadata": {
        "id": "qMbvwaR5Ny-K",
        "colab": {
          "base_uri": "https://localhost:8080/"
        },
        "outputId": "4f4c75fe-db44-45e6-c19d-20a3a6d6b0d6"
      },
      "source": [
        "from torchvision import models\n",
        "\n",
        "# Load pre-trained resnet18 model\n",
        "model = models.resnet18(pretrained=True)\n",
        "\n",
        "# Reset last layer\n",
        "num_ftrs = model.fc.in_features\n",
        "model.fc = nn.Linear(num_ftrs, 2)\n",
        "\n",
        "model = model.to(device)\n",
        "\n",
        "print(model)\n",
        "\n",
        "print(\"\\n\\n# Parameters: \", sum([param.nelement() for param in model.parameters()]))"
      ],
      "execution_count": 78,
      "outputs": [
        {
          "output_type": "stream",
          "text": [
            "ResNet(\n",
            "  (conv1): Conv2d(3, 64, kernel_size=(7, 7), stride=(2, 2), padding=(3, 3), bias=False)\n",
            "  (bn1): BatchNorm2d(64, eps=1e-05, momentum=0.1, affine=True, track_running_stats=True)\n",
            "  (relu): ReLU(inplace=True)\n",
            "  (maxpool): MaxPool2d(kernel_size=3, stride=2, padding=1, dilation=1, ceil_mode=False)\n",
            "  (layer1): Sequential(\n",
            "    (0): BasicBlock(\n",
            "      (conv1): Conv2d(64, 64, kernel_size=(3, 3), stride=(1, 1), padding=(1, 1), bias=False)\n",
            "      (bn1): BatchNorm2d(64, eps=1e-05, momentum=0.1, affine=True, track_running_stats=True)\n",
            "      (relu): ReLU(inplace=True)\n",
            "      (conv2): Conv2d(64, 64, kernel_size=(3, 3), stride=(1, 1), padding=(1, 1), bias=False)\n",
            "      (bn2): BatchNorm2d(64, eps=1e-05, momentum=0.1, affine=True, track_running_stats=True)\n",
            "    )\n",
            "    (1): BasicBlock(\n",
            "      (conv1): Conv2d(64, 64, kernel_size=(3, 3), stride=(1, 1), padding=(1, 1), bias=False)\n",
            "      (bn1): BatchNorm2d(64, eps=1e-05, momentum=0.1, affine=True, track_running_stats=True)\n",
            "      (relu): ReLU(inplace=True)\n",
            "      (conv2): Conv2d(64, 64, kernel_size=(3, 3), stride=(1, 1), padding=(1, 1), bias=False)\n",
            "      (bn2): BatchNorm2d(64, eps=1e-05, momentum=0.1, affine=True, track_running_stats=True)\n",
            "    )\n",
            "  )\n",
            "  (layer2): Sequential(\n",
            "    (0): BasicBlock(\n",
            "      (conv1): Conv2d(64, 128, kernel_size=(3, 3), stride=(2, 2), padding=(1, 1), bias=False)\n",
            "      (bn1): BatchNorm2d(128, eps=1e-05, momentum=0.1, affine=True, track_running_stats=True)\n",
            "      (relu): ReLU(inplace=True)\n",
            "      (conv2): Conv2d(128, 128, kernel_size=(3, 3), stride=(1, 1), padding=(1, 1), bias=False)\n",
            "      (bn2): BatchNorm2d(128, eps=1e-05, momentum=0.1, affine=True, track_running_stats=True)\n",
            "      (downsample): Sequential(\n",
            "        (0): Conv2d(64, 128, kernel_size=(1, 1), stride=(2, 2), bias=False)\n",
            "        (1): BatchNorm2d(128, eps=1e-05, momentum=0.1, affine=True, track_running_stats=True)\n",
            "      )\n",
            "    )\n",
            "    (1): BasicBlock(\n",
            "      (conv1): Conv2d(128, 128, kernel_size=(3, 3), stride=(1, 1), padding=(1, 1), bias=False)\n",
            "      (bn1): BatchNorm2d(128, eps=1e-05, momentum=0.1, affine=True, track_running_stats=True)\n",
            "      (relu): ReLU(inplace=True)\n",
            "      (conv2): Conv2d(128, 128, kernel_size=(3, 3), stride=(1, 1), padding=(1, 1), bias=False)\n",
            "      (bn2): BatchNorm2d(128, eps=1e-05, momentum=0.1, affine=True, track_running_stats=True)\n",
            "    )\n",
            "  )\n",
            "  (layer3): Sequential(\n",
            "    (0): BasicBlock(\n",
            "      (conv1): Conv2d(128, 256, kernel_size=(3, 3), stride=(2, 2), padding=(1, 1), bias=False)\n",
            "      (bn1): BatchNorm2d(256, eps=1e-05, momentum=0.1, affine=True, track_running_stats=True)\n",
            "      (relu): ReLU(inplace=True)\n",
            "      (conv2): Conv2d(256, 256, kernel_size=(3, 3), stride=(1, 1), padding=(1, 1), bias=False)\n",
            "      (bn2): BatchNorm2d(256, eps=1e-05, momentum=0.1, affine=True, track_running_stats=True)\n",
            "      (downsample): Sequential(\n",
            "        (0): Conv2d(128, 256, kernel_size=(1, 1), stride=(2, 2), bias=False)\n",
            "        (1): BatchNorm2d(256, eps=1e-05, momentum=0.1, affine=True, track_running_stats=True)\n",
            "      )\n",
            "    )\n",
            "    (1): BasicBlock(\n",
            "      (conv1): Conv2d(256, 256, kernel_size=(3, 3), stride=(1, 1), padding=(1, 1), bias=False)\n",
            "      (bn1): BatchNorm2d(256, eps=1e-05, momentum=0.1, affine=True, track_running_stats=True)\n",
            "      (relu): ReLU(inplace=True)\n",
            "      (conv2): Conv2d(256, 256, kernel_size=(3, 3), stride=(1, 1), padding=(1, 1), bias=False)\n",
            "      (bn2): BatchNorm2d(256, eps=1e-05, momentum=0.1, affine=True, track_running_stats=True)\n",
            "    )\n",
            "  )\n",
            "  (layer4): Sequential(\n",
            "    (0): BasicBlock(\n",
            "      (conv1): Conv2d(256, 512, kernel_size=(3, 3), stride=(2, 2), padding=(1, 1), bias=False)\n",
            "      (bn1): BatchNorm2d(512, eps=1e-05, momentum=0.1, affine=True, track_running_stats=True)\n",
            "      (relu): ReLU(inplace=True)\n",
            "      (conv2): Conv2d(512, 512, kernel_size=(3, 3), stride=(1, 1), padding=(1, 1), bias=False)\n",
            "      (bn2): BatchNorm2d(512, eps=1e-05, momentum=0.1, affine=True, track_running_stats=True)\n",
            "      (downsample): Sequential(\n",
            "        (0): Conv2d(256, 512, kernel_size=(1, 1), stride=(2, 2), bias=False)\n",
            "        (1): BatchNorm2d(512, eps=1e-05, momentum=0.1, affine=True, track_running_stats=True)\n",
            "      )\n",
            "    )\n",
            "    (1): BasicBlock(\n",
            "      (conv1): Conv2d(512, 512, kernel_size=(3, 3), stride=(1, 1), padding=(1, 1), bias=False)\n",
            "      (bn1): BatchNorm2d(512, eps=1e-05, momentum=0.1, affine=True, track_running_stats=True)\n",
            "      (relu): ReLU(inplace=True)\n",
            "      (conv2): Conv2d(512, 512, kernel_size=(3, 3), stride=(1, 1), padding=(1, 1), bias=False)\n",
            "      (bn2): BatchNorm2d(512, eps=1e-05, momentum=0.1, affine=True, track_running_stats=True)\n",
            "    )\n",
            "  )\n",
            "  (avgpool): AdaptiveAvgPool2d(output_size=(1, 1))\n",
            "  (fc): Linear(in_features=512, out_features=2, bias=True)\n",
            ")\n",
            "\n",
            "\n",
            "# Parameters:  11177538\n"
          ],
          "name": "stdout"
        }
      ]
    },
    {
      "cell_type": "code",
      "metadata": {
        "id": "XAcPL09nN-Ki"
      },
      "source": [
        "# Save the initial weights of model\n",
        "init_model_wts = copy.deepcopy(model.state_dict())"
      ],
      "execution_count": 79,
      "outputs": []
    },
    {
      "cell_type": "code",
      "metadata": {
        "id": "88Nhc4mlN-sc"
      },
      "source": [
        "criterion = nn.CrossEntropyLoss()\n",
        "optimizer = torch.optim.SGD(model.parameters(), lr=learning_rate)"
      ],
      "execution_count": 80,
      "outputs": []
    },
    {
      "cell_type": "code",
      "metadata": {
        "id": "U1pQBFbAOEjd",
        "colab": {
          "base_uri": "https://localhost:8080/"
        },
        "outputId": "a0c87833-49a0-46db-fe90-4c03bc28e85d"
      },
      "source": [
        "since = time.time()\n",
        "\n",
        "best_model_wts = copy.deepcopy(model.state_dict())\n",
        "\n",
        "num_epochs = 25\n",
        "best_acc = 0.0\n",
        "\n",
        "train_loss_history = []\n",
        "valid_loss_history = []\n",
        "\n",
        "print(\"# Start training #\")\n",
        "for epoch in range(num_epochs):\n",
        "    \n",
        "    train_loss = 0\n",
        "    train_n_iter = 0\n",
        "    \n",
        "    # Set model to train mode\n",
        "    model.train()\n",
        "    \n",
        "    # Iterate over train data\n",
        "    for images, labels in train_loader:  \n",
        "        \n",
        "        # put images on proper device (GPU)\n",
        "        images = images.to(device)\n",
        "        labels = labels.to(device)\n",
        "\n",
        "        # Zero the gradient buffer\n",
        "        optimizer.zero_grad()\n",
        "        \n",
        "        # Forward pass\n",
        "        outputs = model(images)\n",
        "        \n",
        "        loss = criterion(outputs, labels)\n",
        "        \n",
        "        # Backward pass\n",
        "        loss.backward()\n",
        "        \n",
        "        # Optimize\n",
        "        optimizer.step()\n",
        "        \n",
        "        # Statistics\n",
        "        train_loss += loss.item()\n",
        "        train_n_iter += 1\n",
        "    \n",
        "    valid_loss = 0\n",
        "    valid_n_iter = 0\n",
        "    \n",
        "    # Set model to evaluate mode\n",
        "    model.eval()\n",
        "    \n",
        "    # Iterate over valid data\n",
        "    total = 0\n",
        "    correct = 0\n",
        "    for images, labels in valid_loader:  \n",
        "        \n",
        "        # put images on proper device (GPU)\n",
        "        images = images.to(device)\n",
        "        labels = labels.to(device)\n",
        "        \n",
        "        # Forward\n",
        "        outputs = model(images)\n",
        "        _, predicted = torch.max(outputs.data, 1)\n",
        "        \n",
        "        loss = criterion(outputs, labels)\n",
        "    \n",
        "        # Statistics\n",
        "        total += labels.size(0)\n",
        "        correct += torch.sum(predicted == labels.data)\n",
        "        valid_loss += loss.item()\n",
        "        valid_n_iter += 1\n",
        "    \n",
        "    epoch_acc = 100 * correct / total\n",
        "    \n",
        "    # Deep copy the best model\n",
        "    if epoch_acc > best_acc:\n",
        "        best_acc = epoch_acc\n",
        "        best_model_wts = copy.deepcopy(model.state_dict())\n",
        "    \n",
        "    train_loss_history.append(train_loss / train_n_iter)\n",
        "    valid_loss_history.append(valid_loss / valid_n_iter)\n",
        "    \n",
        "    print('\\nEpoch: {}/{}'.format(epoch + 1, num_epochs))\n",
        "    print('\\tTrain Loss: {:.4f}'.format(train_loss / train_n_iter))\n",
        "    print('\\tValid Loss: {:.4f}'.format(valid_loss / valid_n_iter))\n",
        "\n",
        "time_elapsed = time.time() - since\n",
        "\n",
        "print('\\n\\nTraining complete in {:.0f}m {:.0f}s'.format(\n",
        "    time_elapsed // 60, time_elapsed % 60))\n",
        "\n",
        "print('\\n\\nBest valid accuracy: {:.2f}'.format(best_acc))"
      ],
      "execution_count": 81,
      "outputs": [
        {
          "output_type": "stream",
          "text": [
            "# Start training #\n",
            "\n",
            "Epoch: 1/25\n",
            "\tTrain Loss: 0.6873\n",
            "\tValid Loss: 0.5701\n",
            "\n",
            "Epoch: 2/25\n",
            "\tTrain Loss: 0.5289\n",
            "\tValid Loss: 0.3950\n",
            "\n",
            "Epoch: 3/25\n",
            "\tTrain Loss: 0.5095\n",
            "\tValid Loss: 0.3211\n",
            "\n",
            "Epoch: 4/25\n",
            "\tTrain Loss: 0.5069\n",
            "\tValid Loss: 0.2579\n",
            "\n",
            "Epoch: 5/25\n",
            "\tTrain Loss: 0.4508\n",
            "\tValid Loss: 0.2689\n",
            "\n",
            "Epoch: 6/25\n",
            "\tTrain Loss: 0.4222\n",
            "\tValid Loss: 0.2284\n",
            "\n",
            "Epoch: 7/25\n",
            "\tTrain Loss: 0.4077\n",
            "\tValid Loss: 0.2114\n",
            "\n",
            "Epoch: 8/25\n",
            "\tTrain Loss: 0.3756\n",
            "\tValid Loss: 0.1928\n",
            "\n",
            "Epoch: 9/25\n",
            "\tTrain Loss: 0.4262\n",
            "\tValid Loss: 0.1865\n",
            "\n",
            "Epoch: 10/25\n",
            "\tTrain Loss: 0.3759\n",
            "\tValid Loss: 0.1846\n",
            "\n",
            "Epoch: 11/25\n",
            "\tTrain Loss: 0.3131\n",
            "\tValid Loss: 0.1764\n",
            "\n",
            "Epoch: 12/25\n",
            "\tTrain Loss: 0.3471\n",
            "\tValid Loss: 0.1457\n",
            "\n",
            "Epoch: 13/25\n",
            "\tTrain Loss: 0.3690\n",
            "\tValid Loss: 0.1397\n",
            "\n",
            "Epoch: 14/25\n",
            "\tTrain Loss: 0.3797\n",
            "\tValid Loss: 0.1602\n",
            "\n",
            "Epoch: 15/25\n",
            "\tTrain Loss: 0.4152\n",
            "\tValid Loss: 0.1371\n",
            "\n",
            "Epoch: 16/25\n",
            "\tTrain Loss: 0.3071\n",
            "\tValid Loss: 0.1464\n",
            "\n",
            "Epoch: 17/25\n",
            "\tTrain Loss: 0.3447\n",
            "\tValid Loss: 0.1792\n",
            "\n",
            "Epoch: 18/25\n",
            "\tTrain Loss: 0.3297\n",
            "\tValid Loss: 0.1560\n",
            "\n",
            "Epoch: 19/25\n",
            "\tTrain Loss: 0.3330\n",
            "\tValid Loss: 0.1652\n",
            "\n",
            "Epoch: 20/25\n",
            "\tTrain Loss: 0.3624\n",
            "\tValid Loss: 0.1479\n",
            "\n",
            "Epoch: 21/25\n",
            "\tTrain Loss: 0.3099\n",
            "\tValid Loss: 0.1515\n",
            "\n",
            "Epoch: 22/25\n",
            "\tTrain Loss: 0.2838\n",
            "\tValid Loss: 0.1485\n",
            "\n",
            "Epoch: 23/25\n",
            "\tTrain Loss: 0.2712\n",
            "\tValid Loss: 0.1652\n",
            "\n",
            "Epoch: 24/25\n",
            "\tTrain Loss: 0.2373\n",
            "\tValid Loss: 0.1450\n",
            "\n",
            "Epoch: 25/25\n",
            "\tTrain Loss: 0.3418\n",
            "\tValid Loss: 0.1537\n",
            "\n",
            "\n",
            "Training complete in 1m 1s\n",
            "\n",
            "\n",
            "Best valid accuracy: 98.00\n"
          ],
          "name": "stdout"
        }
      ]
    },
    {
      "cell_type": "markdown",
      "metadata": {
        "id": "d_x_Kot7iEnI"
      },
      "source": [
        "Let's have a look at train and validation error curves:"
      ]
    },
    {
      "cell_type": "code",
      "metadata": {
        "id": "sVUPxQCehyzc",
        "colab": {
          "base_uri": "https://localhost:8080/",
          "height": 279
        },
        "outputId": "5f3ada56-53fa-41d4-cbd3-47f1803ea38c"
      },
      "source": [
        "resnet18_pretrained_train_loss_history = train_loss_history\n",
        "resnet18_pretrained_valid_loss_history = valid_loss_history\n",
        "\n",
        "# Plot training and validation curve\n",
        "x = range(1, num_epochs + 1)\n",
        "plt.plot(x, resnet18_train_loss_history, label='ResNet18 train')\n",
        "plt.plot(x, resnet18_valid_loss_history, label='ResNet18 valid')\n",
        "plt.plot(\n",
        "      x, resnet18_pretrained_train_loss_history,\n",
        "    label='ResNet18 pretrained train')\n",
        "plt.plot(\n",
        "      x, resnet18_pretrained_valid_loss_history,\n",
        "    label='ResNet18 pretrained valid')\n",
        "\n",
        "plt.xlabel('# epochs')\n",
        "plt.ylabel('Loss')\n",
        "plt.legend()\n",
        "\n",
        "plt.show()"
      ],
      "execution_count": 82,
      "outputs": [
        {
          "output_type": "display_data",
          "data": {
            "image/png": "[encoded data removed]",
            "text/plain": [
              "<Figure size 432x288 with 1 Axes>"
            ]
          },
          "metadata": {
            "tags": [],
            "needs_background": "light"
          }
        }
      ]
    },
    {
      "cell_type": "markdown",
      "metadata": {
        "id": "keq8hL3yiCOG"
      },
      "source": [
        "Let's test the model:"
      ]
    },
    {
      "cell_type": "code",
      "metadata": {
        "id": "MJy4FdfQfc7z",
        "colab": {
          "base_uri": "https://localhost:8080/"
        },
        "outputId": "f8cc8be7-7590-4e10-f51d-573f708dbda9"
      },
      "source": [
        "# Load best model weights\n",
        "model.load_state_dict(best_model_wts)\n",
        "\n",
        "# Set model to evaluate mode\n",
        "model.eval()\n",
        "\n",
        "correct = 0\n",
        "total = 0\n",
        "\n",
        "# Iterate over test data\n",
        "for images, labels in test_loader:\n",
        "    \n",
        "    # put images on proper device (GPU)\n",
        "    images = images.to(device)\n",
        "    labels = labels.to(device)\n",
        "    \n",
        "    # Forward pass\n",
        "    outputs = model(images)\n",
        "    _, predicted = torch.max(outputs.data, 1)\n",
        "    \n",
        "    # Statistics\n",
        "    total += labels.size(0)\n",
        "    correct += torch.sum(predicted == labels.data)\n",
        "\n",
        "print('Accuracy on the test set: {:.2f}%'.format(100 * correct / total))"
      ],
      "execution_count": 83,
      "outputs": [
        {
          "output_type": "stream",
          "text": [
            "Accuracy on the test set: 94.12%\n"
          ],
          "name": "stdout"
        }
      ]
    },
    {
      "cell_type": "markdown",
      "metadata": {
        "id": "LMd3mx5KKYXk"
      },
      "source": [
        "Note that we obtain a better accuracy on the test versus the model with the weights that hadn't been trained."
      ]
    },
    {
      "cell_type": "markdown",
      "metadata": {
        "id": "u69CX2svt_4l"
      },
      "source": [
        "# Follow-up (optional)\n",
        "\n",
        "If you wish to know more about convolutional neural networks here are a few pointers to more advanced tasks that can be performed with these models:\n",
        "\n",
        "\n",
        "## Image segmentation\n",
        "\n",
        "While image classification is useful, it can be even more useful to determine where a particular object of interest is in the image. This is called image segmentation (it is trying to segment the image into various regions). A popular algorithm for image segmentation is [Mask R-CNN](https://arxiv.org/abs/1703.06870). Here is a tutorial that goes over the implementation of this algorithm [here].(https://github.com/matterport/Mask_RCNN/blob/master/samples/shapes/train_shapes.ipynb)\n",
        "\n",
        "Here is an example of a segmented image: \n",
        "\n",
        "![Alt Text](https://github.com/mila-iqia/ecole_dl_mila_ivado/blob/master/tutoriaux/CNN/images/detection_final.png?raw=true)\n",
        "\n",
        "\n",
        "## Generative models (GAN example)\n",
        "\n",
        "A generative adversarial network (GAN) consists of two networks that are \"playing\" against one another. Each is trying to fool the other. The first, the generator, tries to generate realistic data (e.g., images) while the second, the discriminator, tries to determine whether the generated data is real or fake. \n",
        "\n",
        "Training both of these networks together can lead to the generation of high-quality data (often images). \n",
        "For example, here is an MNIST-list digit generated from a GAN trained model:\n",
        "![Alt Text](https://github.com/mila-iqia/ecole_dl_mila_ivado/blob/master/tutoriaux/CNN/images/1_nAVqFluPijpBWR2tI4gCxg.png?raw=true)\n",
        "\n",
        "More information is available in the original [GAN paper](http://papers.nips.cc/paper/5423-generative-adversarial-nets). [Here](https://github.com/diegoalejogm/gans) is an implementation of it.\n",
        "\n"
      ]
    },
    {
      "cell_type": "markdown",
      "metadata": {
        "id": "IsLwCjnbWkk4"
      },
      "source": [
        "# References\n",
        "Various parts of this tutorial are inspired from these other tutorials: \n",
        "<ul>\n",
        "<li>https://github.com/andrewliao11/dni.pytorch/blob/master/mlp.py\n",
        "<li>https://github.com/andrewliao11/dni.pytorch/blob/master/cnn.py\n",
        "<li>http://pytorch.org/tutorials/beginner/blitz/neural_networks_tutorial.html\n",
        "<li>http://pytorch.org/tutorials/beginner/transfer_learning_tutorial.html\n",
        " <li>http://cs231n.github.io/convolutional-networks/\n",
        " <li>http://deeplearning.net/software/theano/tutorial/conv_arithmetic.html#convolution-as-a-matrix-operation\n",
        "</ul>"
      ]
    }
  ]
}